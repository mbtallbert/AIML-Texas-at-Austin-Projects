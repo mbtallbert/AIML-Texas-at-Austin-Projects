{
 "cells": [
  {
   "cell_type": "markdown",
   "metadata": {},
   "source": [
    "#### Problem statement (Term Deposit Sale)\n",
    "**Goal**\n",
    "Using the data collected from existing customers, build a model that will help the marketing team identify potential customers who are relatively more likely to subscribe term deposit  and thus increase their hit ratio. \n",
    "\n",
    "**Resources Available**\n",
    "The historical data for this project is available in file\n",
    "https://archive.ics.uci.edu/ml/datasets/Bank+Marketing\n",
    "\n",
    "##### Deliverable – 1 (Exploratory data quality report reflecting the following) – (20)\n",
    "1.  Univariate analysis (12 marks)\n",
    "> a.  Univariate analysis – data types and description of the independent attributes which should include (name, meaning, range of values observed, central values (mean and median), standard deviation and quartiles, analysis of the body of \n",
    "distributions / tails, missing values, outliers. <br>\n",
    "b.  Strategies to address the different data challenges such as data pollution, outlier’s treatment and missing values treatment.<br>\n",
    "c.  Please provide comments in jupyter notebook regarding the steps you take and insights drawn from the plots.\n",
    "2.  Multivariate analysis (8 marks)\n",
    "> a.  Bi-variate analysis between the predictor variables and target column. Comment \n",
    "on your findings in terms of their relationship and degree of relation if any. <br>\n",
    "Visualize the analysis using boxplots and pair plots, histograms or density curves. \n",
    "Select the most appropriate attributes.<br>\n",
    "b.  Please provide comments in jupyter notebook regarding the steps you take and \n",
    "insights drawn from the plots  <br>\n",
    "##### Deliverable – 2 (Prepare the data for analytics) – (10)\n",
    "1.  Ensure the attribute types are correct. If not, take appropriate actions.\n",
    "2.  Get the data model ready. \n",
    "3.  Transform the data i.e. scale / normalize if required\n",
    "4.  Create the training set and test set in ratio of 70:30\n",
    "##### Deliverable – 3 (create the ensemble model) – (30)\n",
    "1.  First create models using Logistic Regression and Decision Tree algorithm. Note the model performance by using different matrices. Use confusion matrix to evaluate class level metrics i.e. Precision/Recall. Also reflect the accuracy and F1 score of the model. (10 marks)\n",
    "2.  Build the ensemble models (Bagging and Boosting) and note the model performance by using different matrices. Use same metrics as in above model. (at least 3 algorithms) (15 marks) \n",
    "3.  Make a DataFrame to compare models and their metrics. Give conclusion regarding the best algorithm and your reason behind it. (5 marks)\n",
    "\n",
    "##### Attribute information\n",
    "**Input variables:**\n",
    "\n",
    "*Bank client data:*\n",
    "1.  age: Continuous feature \n",
    "2.  job: Type of job (management, technician, entrepreneur, blue-collar, etc.)\n",
    "3.  marital: marital status (married, single, divorced)\n",
    "4.  education: education level (primary, secondary, tertiary)\n",
    "5.  default: has credit in default? \n",
    "6.  housing: has housing loan? \n",
    "7.  loan: has personal loan?\n",
    "8.  balance in account Related to previous contact:\n",
    "9.  contact: contact communication type\n",
    "10.  month: last contact month of year\n",
    "11. day: last contact day of the month\n",
    "12. duration: last contact duration, in seconds*\n",
    "\n",
    "*Other attributes:*<br>\n",
    "13.  campaign: number of contacts performed during this campaign and for this client<br>\n",
    "14.  pdays: number of days that passed by after the client was last contacted from a previous campaign (-1 tells us the person has not been contacted or contact period is beyond 900 days)<br>\n",
    "15.  previous: number of times the client has been contacted before for the last campaign to subscribe term deposit<br>\n",
    "16. poutcome: outcome of the previous marketing campaign<br>\n",
    "\n",
    "**Output variable (desired target):**<br>\n",
    "17.  Target: Tell us has the client subscribed a term deposit. (Yes, No) "
   ]
  },
  {
   "cell_type": "markdown",
   "metadata": {},
   "source": [
    "### Presentation of Proposed Solution"
   ]
  },
  {
   "cell_type": "code",
   "execution_count": 1,
   "metadata": {},
   "outputs": [],
   "source": [
    "import numpy as np\n",
    "import pandas as pd\n",
    "import matplotlib.pyplot as plt\n",
    "import seaborn as sns\n",
    "%matplotlib inline"
   ]
  },
  {
   "cell_type": "markdown",
   "metadata": {},
   "source": [
    "#### Read and interrogate Data "
   ]
  },
  {
   "cell_type": "code",
   "execution_count": 2,
   "metadata": {},
   "outputs": [
    {
     "data": {
      "text/html": [
       "<div>\n",
       "<style scoped>\n",
       "    .dataframe tbody tr th:only-of-type {\n",
       "        vertical-align: middle;\n",
       "    }\n",
       "\n",
       "    .dataframe tbody tr th {\n",
       "        vertical-align: top;\n",
       "    }\n",
       "\n",
       "    .dataframe thead th {\n",
       "        text-align: right;\n",
       "    }\n",
       "</style>\n",
       "<table border=\"1\" class=\"dataframe\">\n",
       "  <thead>\n",
       "    <tr style=\"text-align: right;\">\n",
       "      <th></th>\n",
       "      <th>age</th>\n",
       "      <th>job</th>\n",
       "      <th>marital</th>\n",
       "      <th>education</th>\n",
       "      <th>default</th>\n",
       "      <th>balance</th>\n",
       "      <th>housing</th>\n",
       "      <th>loan</th>\n",
       "      <th>contact</th>\n",
       "      <th>day</th>\n",
       "      <th>month</th>\n",
       "      <th>duration</th>\n",
       "      <th>campaign</th>\n",
       "      <th>pdays</th>\n",
       "      <th>previous</th>\n",
       "      <th>poutcome</th>\n",
       "      <th>Target</th>\n",
       "    </tr>\n",
       "  </thead>\n",
       "  <tbody>\n",
       "    <tr>\n",
       "      <th>0</th>\n",
       "      <td>58</td>\n",
       "      <td>management</td>\n",
       "      <td>married</td>\n",
       "      <td>tertiary</td>\n",
       "      <td>no</td>\n",
       "      <td>2143</td>\n",
       "      <td>yes</td>\n",
       "      <td>no</td>\n",
       "      <td>unknown</td>\n",
       "      <td>5</td>\n",
       "      <td>may</td>\n",
       "      <td>261</td>\n",
       "      <td>1</td>\n",
       "      <td>-1</td>\n",
       "      <td>0</td>\n",
       "      <td>unknown</td>\n",
       "      <td>no</td>\n",
       "    </tr>\n",
       "    <tr>\n",
       "      <th>1</th>\n",
       "      <td>44</td>\n",
       "      <td>technician</td>\n",
       "      <td>single</td>\n",
       "      <td>secondary</td>\n",
       "      <td>no</td>\n",
       "      <td>29</td>\n",
       "      <td>yes</td>\n",
       "      <td>no</td>\n",
       "      <td>unknown</td>\n",
       "      <td>5</td>\n",
       "      <td>may</td>\n",
       "      <td>151</td>\n",
       "      <td>1</td>\n",
       "      <td>-1</td>\n",
       "      <td>0</td>\n",
       "      <td>unknown</td>\n",
       "      <td>no</td>\n",
       "    </tr>\n",
       "    <tr>\n",
       "      <th>2</th>\n",
       "      <td>33</td>\n",
       "      <td>entrepreneur</td>\n",
       "      <td>married</td>\n",
       "      <td>secondary</td>\n",
       "      <td>no</td>\n",
       "      <td>2</td>\n",
       "      <td>yes</td>\n",
       "      <td>yes</td>\n",
       "      <td>unknown</td>\n",
       "      <td>5</td>\n",
       "      <td>may</td>\n",
       "      <td>76</td>\n",
       "      <td>1</td>\n",
       "      <td>-1</td>\n",
       "      <td>0</td>\n",
       "      <td>unknown</td>\n",
       "      <td>no</td>\n",
       "    </tr>\n",
       "    <tr>\n",
       "      <th>3</th>\n",
       "      <td>47</td>\n",
       "      <td>blue-collar</td>\n",
       "      <td>married</td>\n",
       "      <td>unknown</td>\n",
       "      <td>no</td>\n",
       "      <td>1506</td>\n",
       "      <td>yes</td>\n",
       "      <td>no</td>\n",
       "      <td>unknown</td>\n",
       "      <td>5</td>\n",
       "      <td>may</td>\n",
       "      <td>92</td>\n",
       "      <td>1</td>\n",
       "      <td>-1</td>\n",
       "      <td>0</td>\n",
       "      <td>unknown</td>\n",
       "      <td>no</td>\n",
       "    </tr>\n",
       "    <tr>\n",
       "      <th>4</th>\n",
       "      <td>33</td>\n",
       "      <td>unknown</td>\n",
       "      <td>single</td>\n",
       "      <td>unknown</td>\n",
       "      <td>no</td>\n",
       "      <td>1</td>\n",
       "      <td>no</td>\n",
       "      <td>no</td>\n",
       "      <td>unknown</td>\n",
       "      <td>5</td>\n",
       "      <td>may</td>\n",
       "      <td>198</td>\n",
       "      <td>1</td>\n",
       "      <td>-1</td>\n",
       "      <td>0</td>\n",
       "      <td>unknown</td>\n",
       "      <td>no</td>\n",
       "    </tr>\n",
       "  </tbody>\n",
       "</table>\n",
       "</div>"
      ],
      "text/plain": [
       "   age           job  marital  education default  balance housing loan  \\\n",
       "0   58    management  married   tertiary      no     2143     yes   no   \n",
       "1   44    technician   single  secondary      no       29     yes   no   \n",
       "2   33  entrepreneur  married  secondary      no        2     yes  yes   \n",
       "3   47   blue-collar  married    unknown      no     1506     yes   no   \n",
       "4   33       unknown   single    unknown      no        1      no   no   \n",
       "\n",
       "   contact  day month  duration  campaign  pdays  previous poutcome Target  \n",
       "0  unknown    5   may       261         1     -1         0  unknown     no  \n",
       "1  unknown    5   may       151         1     -1         0  unknown     no  \n",
       "2  unknown    5   may        76         1     -1         0  unknown     no  \n",
       "3  unknown    5   may        92         1     -1         0  unknown     no  \n",
       "4  unknown    5   may       198         1     -1         0  unknown     no  "
      ]
     },
     "execution_count": 2,
     "metadata": {},
     "output_type": "execute_result"
    }
   ],
   "source": [
    "bank_data = pd.read_csv('bank-full.csv')\n",
    "bank_data.head()"
   ]
  },
  {
   "cell_type": "code",
   "execution_count": 3,
   "metadata": {},
   "outputs": [
    {
     "data": {
      "text/plain": [
       "(45211, 17)"
      ]
     },
     "execution_count": 3,
     "metadata": {},
     "output_type": "execute_result"
    }
   ],
   "source": [
    "bank_data.shape"
   ]
  },
  {
   "cell_type": "code",
   "execution_count": 4,
   "metadata": {},
   "outputs": [
    {
     "data": {
      "text/plain": [
       "age          0\n",
       "job          0\n",
       "marital      0\n",
       "education    0\n",
       "default      0\n",
       "balance      0\n",
       "housing      0\n",
       "loan         0\n",
       "contact      0\n",
       "day          0\n",
       "month        0\n",
       "duration     0\n",
       "campaign     0\n",
       "pdays        0\n",
       "previous     0\n",
       "poutcome     0\n",
       "Target       0\n",
       "dtype: int64"
      ]
     },
     "execution_count": 4,
     "metadata": {},
     "output_type": "execute_result"
    }
   ],
   "source": [
    "bank_data.isnull().sum()"
   ]
  },
  {
   "cell_type": "markdown",
   "metadata": {},
   "source": [
    "Data consists of 45211 records and no missing values from a quick check have been found"
   ]
  },
  {
   "cell_type": "code",
   "execution_count": 5,
   "metadata": {},
   "outputs": [
    {
     "name": "stdout",
     "output_type": "stream",
     "text": [
      "<class 'pandas.core.frame.DataFrame'>\n",
      "RangeIndex: 45211 entries, 0 to 45210\n",
      "Data columns (total 17 columns):\n",
      " #   Column     Non-Null Count  Dtype \n",
      "---  ------     --------------  ----- \n",
      " 0   age        45211 non-null  int64 \n",
      " 1   job        45211 non-null  object\n",
      " 2   marital    45211 non-null  object\n",
      " 3   education  45211 non-null  object\n",
      " 4   default    45211 non-null  object\n",
      " 5   balance    45211 non-null  int64 \n",
      " 6   housing    45211 non-null  object\n",
      " 7   loan       45211 non-null  object\n",
      " 8   contact    45211 non-null  object\n",
      " 9   day        45211 non-null  int64 \n",
      " 10  month      45211 non-null  object\n",
      " 11  duration   45211 non-null  int64 \n",
      " 12  campaign   45211 non-null  int64 \n",
      " 13  pdays      45211 non-null  int64 \n",
      " 14  previous   45211 non-null  int64 \n",
      " 15  poutcome   45211 non-null  object\n",
      " 16  Target     45211 non-null  object\n",
      "dtypes: int64(7), object(10)\n",
      "memory usage: 5.9+ MB\n"
     ]
    }
   ],
   "source": [
    "bank_data.info()"
   ]
  },
  {
   "cell_type": "code",
   "execution_count": 6,
   "metadata": {},
   "outputs": [],
   "source": [
    "# Categorical Variables\n",
    "catl = ['job', 'marital', 'education', 'default', 'housing', 'loan', 'contact', 'month', 'poutcome', 'Target']\n",
    "#Continuous Variables\n",
    "conts = ['age', 'balance', 'day', 'duration', 'campaign', 'pdays', 'previous']"
   ]
  },
  {
   "cell_type": "code",
   "execution_count": 7,
   "metadata": {},
   "outputs": [
    {
     "data": {
      "text/html": [
       "<div>\n",
       "<style scoped>\n",
       "    .dataframe tbody tr th:only-of-type {\n",
       "        vertical-align: middle;\n",
       "    }\n",
       "\n",
       "    .dataframe tbody tr th {\n",
       "        vertical-align: top;\n",
       "    }\n",
       "\n",
       "    .dataframe thead th {\n",
       "        text-align: right;\n",
       "    }\n",
       "</style>\n",
       "<table border=\"1\" class=\"dataframe\">\n",
       "  <thead>\n",
       "    <tr style=\"text-align: right;\">\n",
       "      <th></th>\n",
       "      <th>job</th>\n",
       "      <th>marital</th>\n",
       "      <th>education</th>\n",
       "      <th>default</th>\n",
       "      <th>housing</th>\n",
       "      <th>loan</th>\n",
       "      <th>contact</th>\n",
       "      <th>month</th>\n",
       "      <th>poutcome</th>\n",
       "      <th>Target</th>\n",
       "    </tr>\n",
       "  </thead>\n",
       "  <tbody>\n",
       "    <tr>\n",
       "      <th>count</th>\n",
       "      <td>45211</td>\n",
       "      <td>45211</td>\n",
       "      <td>45211</td>\n",
       "      <td>45211</td>\n",
       "      <td>45211</td>\n",
       "      <td>45211</td>\n",
       "      <td>45211</td>\n",
       "      <td>45211</td>\n",
       "      <td>45211</td>\n",
       "      <td>45211</td>\n",
       "    </tr>\n",
       "    <tr>\n",
       "      <th>unique</th>\n",
       "      <td>12</td>\n",
       "      <td>3</td>\n",
       "      <td>4</td>\n",
       "      <td>2</td>\n",
       "      <td>2</td>\n",
       "      <td>2</td>\n",
       "      <td>3</td>\n",
       "      <td>12</td>\n",
       "      <td>4</td>\n",
       "      <td>2</td>\n",
       "    </tr>\n",
       "    <tr>\n",
       "      <th>top</th>\n",
       "      <td>blue-collar</td>\n",
       "      <td>married</td>\n",
       "      <td>secondary</td>\n",
       "      <td>no</td>\n",
       "      <td>yes</td>\n",
       "      <td>no</td>\n",
       "      <td>cellular</td>\n",
       "      <td>may</td>\n",
       "      <td>unknown</td>\n",
       "      <td>no</td>\n",
       "    </tr>\n",
       "    <tr>\n",
       "      <th>freq</th>\n",
       "      <td>9732</td>\n",
       "      <td>27214</td>\n",
       "      <td>23202</td>\n",
       "      <td>44396</td>\n",
       "      <td>25130</td>\n",
       "      <td>37967</td>\n",
       "      <td>29285</td>\n",
       "      <td>13766</td>\n",
       "      <td>36959</td>\n",
       "      <td>39922</td>\n",
       "    </tr>\n",
       "  </tbody>\n",
       "</table>\n",
       "</div>"
      ],
      "text/plain": [
       "                job  marital  education default housing   loan   contact  \\\n",
       "count         45211    45211      45211   45211   45211  45211     45211   \n",
       "unique           12        3          4       2       2      2         3   \n",
       "top     blue-collar  married  secondary      no     yes     no  cellular   \n",
       "freq           9732    27214      23202   44396   25130  37967     29285   \n",
       "\n",
       "        month poutcome Target  \n",
       "count   45211    45211  45211  \n",
       "unique     12        4      2  \n",
       "top       may  unknown     no  \n",
       "freq    13766    36959  39922  "
      ]
     },
     "execution_count": 7,
     "metadata": {},
     "output_type": "execute_result"
    }
   ],
   "source": [
    "bank_data.describe(include=['O'])"
   ]
  },
  {
   "cell_type": "code",
   "execution_count": 8,
   "metadata": {},
   "outputs": [
    {
     "data": {
      "text/html": [
       "<div>\n",
       "<style scoped>\n",
       "    .dataframe tbody tr th:only-of-type {\n",
       "        vertical-align: middle;\n",
       "    }\n",
       "\n",
       "    .dataframe tbody tr th {\n",
       "        vertical-align: top;\n",
       "    }\n",
       "\n",
       "    .dataframe thead th {\n",
       "        text-align: right;\n",
       "    }\n",
       "</style>\n",
       "<table border=\"1\" class=\"dataframe\">\n",
       "  <thead>\n",
       "    <tr style=\"text-align: right;\">\n",
       "      <th></th>\n",
       "      <th>age</th>\n",
       "      <th>balance</th>\n",
       "      <th>day</th>\n",
       "      <th>duration</th>\n",
       "      <th>campaign</th>\n",
       "      <th>pdays</th>\n",
       "      <th>previous</th>\n",
       "    </tr>\n",
       "  </thead>\n",
       "  <tbody>\n",
       "    <tr>\n",
       "      <th>count</th>\n",
       "      <td>45211.000000</td>\n",
       "      <td>45211.000000</td>\n",
       "      <td>45211.000000</td>\n",
       "      <td>45211.000000</td>\n",
       "      <td>45211.000000</td>\n",
       "      <td>45211.000000</td>\n",
       "      <td>45211.000000</td>\n",
       "    </tr>\n",
       "    <tr>\n",
       "      <th>mean</th>\n",
       "      <td>40.936210</td>\n",
       "      <td>1362.272058</td>\n",
       "      <td>15.806419</td>\n",
       "      <td>258.163080</td>\n",
       "      <td>2.763841</td>\n",
       "      <td>40.197828</td>\n",
       "      <td>0.580323</td>\n",
       "    </tr>\n",
       "    <tr>\n",
       "      <th>std</th>\n",
       "      <td>10.618762</td>\n",
       "      <td>3044.765829</td>\n",
       "      <td>8.322476</td>\n",
       "      <td>257.527812</td>\n",
       "      <td>3.098021</td>\n",
       "      <td>100.128746</td>\n",
       "      <td>2.303441</td>\n",
       "    </tr>\n",
       "    <tr>\n",
       "      <th>min</th>\n",
       "      <td>18.000000</td>\n",
       "      <td>-8019.000000</td>\n",
       "      <td>1.000000</td>\n",
       "      <td>0.000000</td>\n",
       "      <td>1.000000</td>\n",
       "      <td>-1.000000</td>\n",
       "      <td>0.000000</td>\n",
       "    </tr>\n",
       "    <tr>\n",
       "      <th>25%</th>\n",
       "      <td>33.000000</td>\n",
       "      <td>72.000000</td>\n",
       "      <td>8.000000</td>\n",
       "      <td>103.000000</td>\n",
       "      <td>1.000000</td>\n",
       "      <td>-1.000000</td>\n",
       "      <td>0.000000</td>\n",
       "    </tr>\n",
       "    <tr>\n",
       "      <th>50%</th>\n",
       "      <td>39.000000</td>\n",
       "      <td>448.000000</td>\n",
       "      <td>16.000000</td>\n",
       "      <td>180.000000</td>\n",
       "      <td>2.000000</td>\n",
       "      <td>-1.000000</td>\n",
       "      <td>0.000000</td>\n",
       "    </tr>\n",
       "    <tr>\n",
       "      <th>75%</th>\n",
       "      <td>48.000000</td>\n",
       "      <td>1428.000000</td>\n",
       "      <td>21.000000</td>\n",
       "      <td>319.000000</td>\n",
       "      <td>3.000000</td>\n",
       "      <td>-1.000000</td>\n",
       "      <td>0.000000</td>\n",
       "    </tr>\n",
       "    <tr>\n",
       "      <th>max</th>\n",
       "      <td>95.000000</td>\n",
       "      <td>102127.000000</td>\n",
       "      <td>31.000000</td>\n",
       "      <td>4918.000000</td>\n",
       "      <td>63.000000</td>\n",
       "      <td>871.000000</td>\n",
       "      <td>275.000000</td>\n",
       "    </tr>\n",
       "  </tbody>\n",
       "</table>\n",
       "</div>"
      ],
      "text/plain": [
       "                age        balance           day      duration      campaign  \\\n",
       "count  45211.000000   45211.000000  45211.000000  45211.000000  45211.000000   \n",
       "mean      40.936210    1362.272058     15.806419    258.163080      2.763841   \n",
       "std       10.618762    3044.765829      8.322476    257.527812      3.098021   \n",
       "min       18.000000   -8019.000000      1.000000      0.000000      1.000000   \n",
       "25%       33.000000      72.000000      8.000000    103.000000      1.000000   \n",
       "50%       39.000000     448.000000     16.000000    180.000000      2.000000   \n",
       "75%       48.000000    1428.000000     21.000000    319.000000      3.000000   \n",
       "max       95.000000  102127.000000     31.000000   4918.000000     63.000000   \n",
       "\n",
       "              pdays      previous  \n",
       "count  45211.000000  45211.000000  \n",
       "mean      40.197828      0.580323  \n",
       "std      100.128746      2.303441  \n",
       "min       -1.000000      0.000000  \n",
       "25%       -1.000000      0.000000  \n",
       "50%       -1.000000      0.000000  \n",
       "75%       -1.000000      0.000000  \n",
       "max      871.000000    275.000000  "
      ]
     },
     "execution_count": 8,
     "metadata": {},
     "output_type": "execute_result"
    }
   ],
   "source": [
    "bank_data.describe()"
   ]
  },
  {
   "cell_type": "code",
   "execution_count": 9,
   "metadata": {},
   "outputs": [
    {
     "data": {
      "text/plain": [
       "3766"
      ]
     },
     "execution_count": 9,
     "metadata": {},
     "output_type": "execute_result"
    }
   ],
   "source": [
    "bank_data[bank_data['balance']<0].shape[0]"
   ]
  },
  {
   "cell_type": "markdown",
   "metadata": {},
   "source": [
    "#### Univariate Analysis\n",
    "\n",
    "#### Continuous Variables"
   ]
  },
  {
   "cell_type": "code",
   "execution_count": 10,
   "metadata": {
    "scrolled": true
   },
   "outputs": [
    {
     "data": {
      "image/png": "[encoded data removed]",
      "text/plain": [
       "<Figure size 432x288 with 1 Axes>"
      ]
     },
     "metadata": {
      "needs_background": "light"
     },
     "output_type": "display_data"
    }
   ],
   "source": [
    "sns.distplot(bank_data['age'], kde=False, bins=10);"
   ]
  },
  {
   "cell_type": "markdown",
   "metadata": {},
   "source": [
    "modal age class is between 30 - 40 years in our dataset"
   ]
  },
  {
   "cell_type": "code",
   "execution_count": 11,
   "metadata": {},
   "outputs": [
    {
     "data": {
      "text/html": [
       "<div>\n",
       "<style scoped>\n",
       "    .dataframe tbody tr th:only-of-type {\n",
       "        vertical-align: middle;\n",
       "    }\n",
       "\n",
       "    .dataframe tbody tr th {\n",
       "        vertical-align: top;\n",
       "    }\n",
       "\n",
       "    .dataframe thead th {\n",
       "        text-align: right;\n",
       "    }\n",
       "</style>\n",
       "<table border=\"1\" class=\"dataframe\">\n",
       "  <thead>\n",
       "    <tr style=\"text-align: right;\">\n",
       "      <th></th>\n",
       "      <th>age</th>\n",
       "      <th>balance</th>\n",
       "      <th>day</th>\n",
       "      <th>duration</th>\n",
       "      <th>campaign</th>\n",
       "      <th>pdays</th>\n",
       "      <th>previous</th>\n",
       "    </tr>\n",
       "  </thead>\n",
       "  <tbody>\n",
       "    <tr>\n",
       "      <th>range</th>\n",
       "      <td>77.00</td>\n",
       "      <td>110146.00</td>\n",
       "      <td>30.00</td>\n",
       "      <td>4918.00</td>\n",
       "      <td>62.00</td>\n",
       "      <td>872.00</td>\n",
       "      <td>275.00</td>\n",
       "    </tr>\n",
       "    <tr>\n",
       "      <th>IQR*1.5</th>\n",
       "      <td>22.50</td>\n",
       "      <td>2034.00</td>\n",
       "      <td>19.50</td>\n",
       "      <td>324.00</td>\n",
       "      <td>3.00</td>\n",
       "      <td>0.00</td>\n",
       "      <td>0.00</td>\n",
       "    </tr>\n",
       "    <tr>\n",
       "      <th>skewness</th>\n",
       "      <td>0.68</td>\n",
       "      <td>8.36</td>\n",
       "      <td>0.09</td>\n",
       "      <td>3.14</td>\n",
       "      <td>4.90</td>\n",
       "      <td>2.62</td>\n",
       "      <td>41.85</td>\n",
       "    </tr>\n",
       "    <tr>\n",
       "      <th>kurtosis</th>\n",
       "      <td>0.32</td>\n",
       "      <td>140.75</td>\n",
       "      <td>-1.06</td>\n",
       "      <td>18.15</td>\n",
       "      <td>39.25</td>\n",
       "      <td>6.94</td>\n",
       "      <td>4506.86</td>\n",
       "    </tr>\n",
       "  </tbody>\n",
       "</table>\n",
       "</div>"
      ],
      "text/plain": [
       "            age    balance    day  duration  campaign   pdays  previous\n",
       "range     77.00  110146.00  30.00   4918.00     62.00  872.00    275.00\n",
       "IQR*1.5   22.50    2034.00  19.50    324.00      3.00    0.00      0.00\n",
       "skewness   0.68       8.36   0.09      3.14      4.90    2.62     41.85\n",
       "kurtosis   0.32     140.75  -1.06     18.15     39.25    6.94   4506.86"
      ]
     },
     "execution_count": 11,
     "metadata": {},
     "output_type": "execute_result"
    }
   ],
   "source": [
    "d, q, s, k = [], [], [], []\n",
    "for i in conts:\n",
    "    d.append(bank_data[i].max() - bank_data[i].min())\n",
    "    q.append((bank_data[i].quantile(0.75) - bank_data[i].quantile(0.25))*1.5)\n",
    "    s.append(bank_data[i].skew().round(2))\n",
    "    k.append(bank_data[i].kurt().round(2))\n",
    "pd.DataFrame([d, q, s, k] , columns=conts, index=['range', 'IQR*1.5', 'skewness', 'kurtosis'])"
   ]
  },
  {
   "cell_type": "code",
   "execution_count": 12,
   "metadata": {},
   "outputs": [
    {
     "data": {
      "image/png": "[encoded data removed]",
      "text/plain": [
       "<Figure size 1440x1800 with 6 Axes>"
      ]
     },
     "metadata": {
      "needs_background": "light"
     },
     "output_type": "display_data"
    }
   ],
   "source": [
    "plt.figure(figsize= (20,25))\n",
    "for i in conts[1:]:\n",
    "    plt.subplot(7,3,conts[1:].index(i)+1)\n",
    "    sns.distplot(bank_data[i], kde=False);"
   ]
  },
  {
   "cell_type": "markdown",
   "metadata": {},
   "source": [
    "**Observation**<br>\n",
    "With the exception of the 'day' variable, the rest of the continuous features show some positive skewness and from the visuals above it is clear that the are outliers which will need some sort of treatment mechanism (maybe different for each feature) to remove outlier effect\n",
    "\n",
    "There is a clear evidence on skewness in our data, meaning these continous variables are not symmetric about the mean."
   ]
  },
  {
   "cell_type": "markdown",
   "metadata": {},
   "source": [
    "### Pdays drill down"
   ]
  },
  {
   "cell_type": "code",
   "execution_count": 13,
   "metadata": {},
   "outputs": [
    {
     "data": {
      "text/plain": [
       "81.73674548229414"
      ]
     },
     "execution_count": 13,
     "metadata": {},
     "output_type": "execute_result"
    }
   ],
   "source": [
    "(bank_data[bank_data['pdays']==-1]['pdays'].shape[0]/bank_data.shape[0])*100"
   ]
  },
  {
   "cell_type": "code",
   "execution_count": 14,
   "metadata": {},
   "outputs": [
    {
     "name": "stdout",
     "output_type": "stream",
     "text": [
      "minimum number of days:  1\n",
      "maximum number of days:  871\n"
     ]
    }
   ],
   "source": [
    "print(\"minimum number of days: \", bank_data[bank_data['pdays']!=-1]['pdays'].min())\n",
    "print(\"maximum number of days: \", bank_data[bank_data['pdays']!=-1]['pdays'].max())"
   ]
  },
  {
   "cell_type": "markdown",
   "metadata": {},
   "source": [
    "**Discussion:**\n",
    "pdays: number of days that passed by after the client was last contacted from a previous campaign <br>\n",
    "**The value *-1* tells us that:**\n",
    "- the person has not been contacted <br>\n",
    "or\n",
    "- contact period is beyond 900 days <br>\n",
    "\n",
    "From the dataset it is clear that 81.7% of the clients were either not contacted or contact period was beyond 900 days. Therefore, inorder to use this variable, we need to find a way of representing these two scenarios in the dataset most probably py splitting the variable into two.\n",
    "\n",
    "The rest of the values span 1 to 871 days. "
   ]
  },
  {
   "cell_type": "markdown",
   "metadata": {},
   "source": [
    "#### Categorical Variables \n",
    "- are either Ordinal (follow a particular order), or nominal (named data). I will sepaate the two and explore then differently"
   ]
  },
  {
   "cell_type": "code",
   "execution_count": 15,
   "metadata": {},
   "outputs": [
    {
     "data": {
      "text/plain": [
       "3"
      ]
     },
     "execution_count": 15,
     "metadata": {},
     "output_type": "execute_result"
    }
   ],
   "source": [
    "bank_data['contact'].nunique()"
   ]
  },
  {
   "cell_type": "code",
   "execution_count": 16,
   "metadata": {},
   "outputs": [],
   "source": [
    "ordl = ['education', 'default', 'housing', 'loan', 'month']\n",
    "noml = ['job', 'marital',  'contact', 'poutcome']"
   ]
  },
  {
   "cell_type": "code",
   "execution_count": 17,
   "metadata": {},
   "outputs": [
    {
     "data": {
      "text/plain": [
       "['management',\n",
       " 'technician',\n",
       " 'entrepreneur',\n",
       " 'blue-collar',\n",
       " 'unknown',\n",
       " 'retired',\n",
       " 'admin.',\n",
       " 'services',\n",
       " 'self-employed',\n",
       " 'unemployed',\n",
       " 'housemaid',\n",
       " 'student']"
      ]
     },
     "execution_count": 17,
     "metadata": {},
     "output_type": "execute_result"
    }
   ],
   "source": [
    "list(bank_data['job'].unique())"
   ]
  },
  {
   "cell_type": "code",
   "execution_count": 18,
   "metadata": {},
   "outputs": [
    {
     "data": {
      "image/png": "[encoded data removed]",
      "text/plain": [
       "<Figure size 864x1080 with 4 Axes>"
      ]
     },
     "metadata": {
      "needs_background": "light"
     },
     "output_type": "display_data"
    }
   ],
   "source": [
    "plt.figure(figsize= (12,15))\n",
    "for i in ordl[:-1]:\n",
    "    plt.subplot(4,2,ordl[:-1].index(i)+1)\n",
    "    sns.countplot(x=i, data=bank_data);"
   ]
  },
  {
   "cell_type": "code",
   "execution_count": 19,
   "metadata": {},
   "outputs": [
    {
     "data": {
      "image/png": "[encoded data removed]",
      "text/plain": [
       "<Figure size 576x360 with 1 Axes>"
      ]
     },
     "metadata": {
      "needs_background": "light"
     },
     "output_type": "display_data"
    }
   ],
   "source": [
    "plt.figure(figsize= (8,5))\n",
    "seq = ['jan','feb', 'mar', 'apr', 'may', 'jun', 'jul', 'aug', 'sep', 'oct', 'nov', 'dec']\n",
    "sns.countplot(x='month', data=bank_data, order=seq);"
   ]
  },
  {
   "cell_type": "code",
   "execution_count": 20,
   "metadata": {},
   "outputs": [
    {
     "data": {
      "image/png": "[encoded data removed]",
      "text/plain": [
       "<Figure size 1296x1296 with 3 Axes>"
      ]
     },
     "metadata": {
      "needs_background": "light"
     },
     "output_type": "display_data"
    }
   ],
   "source": [
    "plt.figure(figsize= (18,18))\n",
    "for i in noml[1:]:\n",
    "    plt.subplot(5,3,noml[1:].index(i)+1)\n",
    "    sns.countplot(x=i, data=bank_data);"
   ]
  },
  {
   "cell_type": "code",
   "execution_count": 21,
   "metadata": {},
   "outputs": [
    {
     "data": {
      "text/plain": [
       "blue-collar      9732\n",
       "management       9458\n",
       "technician       7597\n",
       "admin.           5171\n",
       "services         4154\n",
       "retired          2264\n",
       "self-employed    1579\n",
       "entrepreneur     1487\n",
       "unemployed       1303\n",
       "housemaid        1240\n",
       "student           938\n",
       "unknown           288\n",
       "Name: job, dtype: int64"
      ]
     },
     "execution_count": 21,
     "metadata": {},
     "output_type": "execute_result"
    }
   ],
   "source": [
    "bank_data['job'].value_counts()"
   ]
  },
  {
   "cell_type": "code",
   "execution_count": 22,
   "metadata": {
    "scrolled": true
   },
   "outputs": [
    {
     "data": {
      "image/png": "[encoded data removed]",
      "text/plain": [
       "<Figure size 1080x360 with 1 Axes>"
      ]
     },
     "metadata": {
      "needs_background": "light"
     },
     "output_type": "display_data"
    }
   ],
   "source": [
    "plt.figure(figsize= (15,5))\n",
    "sns.countplot(x='job', data=bank_data, order=sorted(list(bank_data['job'].unique()), key=str.lower));"
   ]
  },
  {
   "cell_type": "markdown",
   "metadata": {},
   "source": [
    "### Target"
   ]
  },
  {
   "cell_type": "code",
   "execution_count": 23,
   "metadata": {},
   "outputs": [
    {
     "data": {
      "text/plain": [
       "no     0.883015\n",
       "yes    0.116985\n",
       "Name: Target, dtype: float64"
      ]
     },
     "execution_count": 23,
     "metadata": {},
     "output_type": "execute_result"
    }
   ],
   "source": [
    "bank_data['Target'].value_counts(normalize=True)"
   ]
  },
  {
   "cell_type": "code",
   "execution_count": 24,
   "metadata": {},
   "outputs": [
    {
     "data": {
      "image/png": "[encoded data removed]",
      "text/plain": [
       "<Figure size 432x288 with 1 Axes>"
      ]
     },
     "metadata": {
      "needs_background": "light"
     },
     "output_type": "display_data"
    }
   ],
   "source": [
    "sns.countplot(x='Target', data=bank_data);"
   ]
  },
  {
   "cell_type": "markdown",
   "metadata": {},
   "source": [
    "The proportion of no-subscription **:** subscription is 88 **:** 12, which presents a very imbalanced dataset."
   ]
  },
  {
   "cell_type": "code",
   "execution_count": 25,
   "metadata": {
    "scrolled": true
   },
   "outputs": [
    {
     "data": {
      "text/html": [
       "<div>\n",
       "<style scoped>\n",
       "    .dataframe tbody tr th:only-of-type {\n",
       "        vertical-align: middle;\n",
       "    }\n",
       "\n",
       "    .dataframe tbody tr th {\n",
       "        vertical-align: top;\n",
       "    }\n",
       "\n",
       "    .dataframe thead th {\n",
       "        text-align: right;\n",
       "    }\n",
       "</style>\n",
       "<table border=\"1\" class=\"dataframe\">\n",
       "  <thead>\n",
       "    <tr style=\"text-align: right;\">\n",
       "      <th></th>\n",
       "      <th>age</th>\n",
       "      <th>balance</th>\n",
       "      <th>day</th>\n",
       "      <th>duration</th>\n",
       "      <th>campaign</th>\n",
       "      <th>pdays</th>\n",
       "      <th>previous</th>\n",
       "    </tr>\n",
       "    <tr>\n",
       "      <th>Target</th>\n",
       "      <th></th>\n",
       "      <th></th>\n",
       "      <th></th>\n",
       "      <th></th>\n",
       "      <th></th>\n",
       "      <th></th>\n",
       "      <th></th>\n",
       "    </tr>\n",
       "  </thead>\n",
       "  <tbody>\n",
       "    <tr>\n",
       "      <th>no</th>\n",
       "      <td>40.838986</td>\n",
       "      <td>1303.714969</td>\n",
       "      <td>15.892290</td>\n",
       "      <td>221.182806</td>\n",
       "      <td>2.846350</td>\n",
       "      <td>36.421372</td>\n",
       "      <td>0.502154</td>\n",
       "    </tr>\n",
       "    <tr>\n",
       "      <th>yes</th>\n",
       "      <td>41.670070</td>\n",
       "      <td>1804.267915</td>\n",
       "      <td>15.158253</td>\n",
       "      <td>537.294574</td>\n",
       "      <td>2.141047</td>\n",
       "      <td>68.702968</td>\n",
       "      <td>1.170354</td>\n",
       "    </tr>\n",
       "  </tbody>\n",
       "</table>\n",
       "</div>"
      ],
      "text/plain": [
       "              age      balance        day    duration  campaign      pdays  \\\n",
       "Target                                                                       \n",
       "no      40.838986  1303.714969  15.892290  221.182806  2.846350  36.421372   \n",
       "yes     41.670070  1804.267915  15.158253  537.294574  2.141047  68.702968   \n",
       "\n",
       "        previous  \n",
       "Target            \n",
       "no      0.502154  \n",
       "yes     1.170354  "
      ]
     },
     "execution_count": 25,
     "metadata": {},
     "output_type": "execute_result"
    }
   ],
   "source": [
    "bank_data.groupby('Target')[conts].mean()"
   ]
  },
  {
   "cell_type": "code",
   "execution_count": 26,
   "metadata": {},
   "outputs": [
    {
     "data": {
      "image/png": "[encoded data removed]",
      "text/plain": [
       "<Figure size 432x288 with 1 Axes>"
      ]
     },
     "metadata": {
      "needs_background": "light"
     },
     "output_type": "display_data"
    }
   ],
   "source": [
    "sns.distplot(bank_data['age'].loc[bank_data[\"Target\"] == \"no\"].values, color='b', label='No', hist=False)\n",
    "plt.axvline(bank_data['age'].loc[bank_data[\"Target\"] == \"no\"].mean(), color='blue', ls='--')\n",
    "sns.distplot(bank_data['age'].loc[bank_data[\"Target\"] == \"yes\"].values, color='orange', label='Yes', hist=False)\n",
    "plt.axvline(bank_data['age'].loc[bank_data[\"Target\"] == \"yes\"].mean(), color='orange', ls='--');"
   ]
  },
  {
   "cell_type": "markdown",
   "metadata": {},
   "source": [
    "**Observations**<br>\n",
    "Consider the table and graph above:<br>\n",
    "- the mean-balance for those who bought the term deposit is much higher than for those who didn't buy.\n",
    "- on Average, the age of those who bought the term deposit is higher than that of the bank clients who didn’t, however this difference may not be statistically significant.\n",
    "\n",
    "- mean duration as well is significantly higher for those who purchased the term-deposit which is expected as it (the length of the call) spells out interest in the client for what is being sold to them.\n",
    "- However, mean campaign i.e. \" *number of contacts performed during this campaign and for this client* \" is lower for clients who bought the term deposit."
   ]
  },
  {
   "cell_type": "code",
   "execution_count": null,
   "metadata": {},
   "outputs": [],
   "source": []
  },
  {
   "cell_type": "markdown",
   "metadata": {},
   "source": [
    "### Bivariate Analysis"
   ]
  },
  {
   "cell_type": "markdown",
   "metadata": {},
   "source": [
    "**Job** vs **Target**\n",
    "\n",
    "in order to investigate the relationship between these two variables, given the number of categories in the variable *job* i decided to do table showing how many clients are in each job category and how many bougght the term deposit how many didnt per category.<br>\n",
    "reference: https://stackoverflow.com/questions/52153364/how-to-create-table-from-python-output"
   ]
  },
  {
   "cell_type": "code",
   "execution_count": 27,
   "metadata": {
    "scrolled": true
   },
   "outputs": [
    {
     "name": "stdout",
     "output_type": "stream",
     "text": [
      "+---------------+-------+---------------------+-----------------+\n",
      "|      Job      | Count | %ge Non-Subscribers | %ge Subscribers |\n",
      "+---------------+-------+---------------------+-----------------+\n",
      "|     admin.    |  5171 |         87.8        |       12.2      |\n",
      "|  blue-collar  |  9732 |        92.73        |       7.27      |\n",
      "|  entrepreneur |  1487 |        91.73        |       8.27      |\n",
      "|   housemaid   |  1240 |        91.21        |       8.79      |\n",
      "|   management  |  9458 |        86.24        |      13.76      |\n",
      "|    retired    |  2264 |        77.21        |      22.79      |\n",
      "| self-employed |  1579 |        88.16        |      11.84      |\n",
      "|    services   |  4154 |        91.12        |       8.88      |\n",
      "|    student    |  938  |        71.32        |      28.68      |\n",
      "|   technician  |  7597 |        88.94        |      11.06      |\n",
      "|   unemployed  |  1303 |         84.5        |       15.5      |\n",
      "|    unknown    |  288  |        88.19        |      11.81      |\n",
      "+---------------+-------+---------------------+-----------------+\n"
     ]
    }
   ],
   "source": [
    "from prettytable import PrettyTable\n",
    "\n",
    "table = PrettyTable(field_names=['Job', 'Count', '%ge Non-Subscribers', '%ge Subscribers'])\n",
    "for i in sorted(list(bank_data['job'].unique()), key=str.lower):\n",
    "    table.add_row([i, len(bank_data[bank_data['job'] == i]), \n",
    "                   round(bank_data[bank_data['job'] == i]['Target'].value_counts()[0]/len(bank_data[bank_data['job'] == i])*100,2),\n",
    "                   round(bank_data[bank_data['job'] == i]['Target'].value_counts()[1]/len(bank_data[bank_data['job'] == i])*100,2)])\n",
    "print(table)"
   ]
  },
  {
   "cell_type": "code",
   "execution_count": 28,
   "metadata": {},
   "outputs": [
    {
     "data": {
      "image/png": "[encoded data removed]",
      "text/plain": [
       "<Figure size 1440x360 with 1 Axes>"
      ]
     },
     "metadata": {
      "needs_background": "light"
     },
     "output_type": "display_data"
    }
   ],
   "source": [
    "plt.figure(figsize= (20,5))\n",
    "sns.countplot(x='job', hue='Target', data=bank_data, order=sorted(list(bank_data['job'].unique()), key=str.lower));"
   ]
  },
  {
   "cell_type": "markdown",
   "metadata": {},
   "source": [
    "**Insights** <br>\n",
    "\n",
    "- Students seem to have the highest subscription rate (**28.9%**) followed by the *retired* job-class (**22.8%**)<br>\n",
    "- *Blue-collar* (**9732**), *Management* (**9458**) and *Technicians* (**7597**) are the top most contacted job-classes in the dataset. *This is expected in general because these most likely have stable income and have a higher capacity to purchase term deposit*.<br>\n",
    "- Subscription rate is lower from the *blue-collar* job-class (**7.27%**), closely followed by *entrepreneur* (**8.27%**). Maybe these are too sensitive to the risk and hence the conversion rate"
   ]
  },
  {
   "cell_type": "code",
   "execution_count": 29,
   "metadata": {},
   "outputs": [
    {
     "data": {
      "text/html": [
       "<div>\n",
       "<style scoped>\n",
       "    .dataframe tbody tr th:only-of-type {\n",
       "        vertical-align: middle;\n",
       "    }\n",
       "\n",
       "    .dataframe tbody tr th {\n",
       "        vertical-align: top;\n",
       "    }\n",
       "\n",
       "    .dataframe thead th {\n",
       "        text-align: right;\n",
       "    }\n",
       "</style>\n",
       "<table border=\"1\" class=\"dataframe\">\n",
       "  <thead>\n",
       "    <tr style=\"text-align: right;\">\n",
       "      <th></th>\n",
       "      <th></th>\n",
       "      <th>age</th>\n",
       "      <th>balance</th>\n",
       "      <th>day</th>\n",
       "      <th>duration</th>\n",
       "      <th>campaign</th>\n",
       "      <th>pdays</th>\n",
       "      <th>previous</th>\n",
       "    </tr>\n",
       "    <tr>\n",
       "      <th>job</th>\n",
       "      <th>Target</th>\n",
       "      <th></th>\n",
       "      <th></th>\n",
       "      <th></th>\n",
       "      <th></th>\n",
       "      <th></th>\n",
       "      <th></th>\n",
       "      <th></th>\n",
       "    </tr>\n",
       "  </thead>\n",
       "  <tbody>\n",
       "    <tr>\n",
       "      <th rowspan=\"2\" valign=\"top\">admin.</th>\n",
       "      <th>no</th>\n",
       "      <td>39.266300</td>\n",
       "      <td>1093.942070</td>\n",
       "      <td>15.633700</td>\n",
       "      <td>211.285903</td>\n",
       "      <td>2.647797</td>\n",
       "      <td>43.544714</td>\n",
       "      <td>0.586784</td>\n",
       "    </tr>\n",
       "    <tr>\n",
       "      <th>yes</th>\n",
       "      <td>39.459588</td>\n",
       "      <td>1437.283677</td>\n",
       "      <td>15.064976</td>\n",
       "      <td>503.114105</td>\n",
       "      <td>2.053883</td>\n",
       "      <td>78.900158</td>\n",
       "      <td>1.282092</td>\n",
       "    </tr>\n",
       "    <tr>\n",
       "      <th rowspan=\"2\" valign=\"top\">blue-collar</th>\n",
       "      <th>no</th>\n",
       "      <td>40.143506</td>\n",
       "      <td>1063.402371</td>\n",
       "      <td>15.483599</td>\n",
       "      <td>230.541445</td>\n",
       "      <td>2.866467</td>\n",
       "      <td>43.334220</td>\n",
       "      <td>0.477948</td>\n",
       "    </tr>\n",
       "    <tr>\n",
       "      <th>yes</th>\n",
       "      <td>38.776836</td>\n",
       "      <td>1275.420904</td>\n",
       "      <td>14.919492</td>\n",
       "      <td>675.355932</td>\n",
       "      <td>2.186441</td>\n",
       "      <td>52.946328</td>\n",
       "      <td>0.851695</td>\n",
       "    </tr>\n",
       "    <tr>\n",
       "      <th rowspan=\"2\" valign=\"top\">entrepreneur</th>\n",
       "      <th>no</th>\n",
       "      <td>42.145894</td>\n",
       "      <td>1494.642229</td>\n",
       "      <td>15.775660</td>\n",
       "      <td>221.439883</td>\n",
       "      <td>2.793255</td>\n",
       "      <td>31.364370</td>\n",
       "      <td>0.455279</td>\n",
       "    </tr>\n",
       "    <tr>\n",
       "      <th>yes</th>\n",
       "      <td>42.691057</td>\n",
       "      <td>1818.975610</td>\n",
       "      <td>14.886179</td>\n",
       "      <td>642.991870</td>\n",
       "      <td>2.869919</td>\n",
       "      <td>44.926829</td>\n",
       "      <td>0.731707</td>\n",
       "    </tr>\n",
       "    <tr>\n",
       "      <th rowspan=\"2\" valign=\"top\">housemaid</th>\n",
       "      <th>no</th>\n",
       "      <td>46.140584</td>\n",
       "      <td>1353.740053</td>\n",
       "      <td>15.961096</td>\n",
       "      <td>216.251105</td>\n",
       "      <td>2.848806</td>\n",
       "      <td>18.093722</td>\n",
       "      <td>0.332449</td>\n",
       "    </tr>\n",
       "    <tr>\n",
       "      <th>yes</th>\n",
       "      <td>49.266055</td>\n",
       "      <td>1793.486239</td>\n",
       "      <td>16.431193</td>\n",
       "      <td>552.688073</td>\n",
       "      <td>2.532110</td>\n",
       "      <td>56.908257</td>\n",
       "      <td>0.779817</td>\n",
       "    </tr>\n",
       "    <tr>\n",
       "      <th rowspan=\"2\" valign=\"top\">management</th>\n",
       "      <th>no</th>\n",
       "      <td>40.534878</td>\n",
       "      <td>1703.472723</td>\n",
       "      <td>16.296433</td>\n",
       "      <td>214.819909</td>\n",
       "      <td>2.966041</td>\n",
       "      <td>32.797107</td>\n",
       "      <td>0.565894</td>\n",
       "    </tr>\n",
       "    <tr>\n",
       "      <th>yes</th>\n",
       "      <td>39.914681</td>\n",
       "      <td>2140.707917</td>\n",
       "      <td>14.971560</td>\n",
       "      <td>499.620292</td>\n",
       "      <td>2.226749</td>\n",
       "      <td>75.458878</td>\n",
       "      <td>1.308224</td>\n",
       "    </tr>\n",
       "    <tr>\n",
       "      <th rowspan=\"2\" valign=\"top\">retired</th>\n",
       "      <th>no</th>\n",
       "      <td>59.912471</td>\n",
       "      <td>1775.685927</td>\n",
       "      <td>15.435355</td>\n",
       "      <td>236.303204</td>\n",
       "      <td>2.486842</td>\n",
       "      <td>29.060069</td>\n",
       "      <td>0.457094</td>\n",
       "    </tr>\n",
       "    <tr>\n",
       "      <th>yes</th>\n",
       "      <td>67.434109</td>\n",
       "      <td>2690.627907</td>\n",
       "      <td>15.453488</td>\n",
       "      <td>460.325581</td>\n",
       "      <td>1.872093</td>\n",
       "      <td>65.844961</td>\n",
       "      <td>1.253876</td>\n",
       "    </tr>\n",
       "    <tr>\n",
       "      <th rowspan=\"2\" valign=\"top\">self-employed</th>\n",
       "      <th>no</th>\n",
       "      <td>40.712644</td>\n",
       "      <td>1553.418103</td>\n",
       "      <td>16.112069</td>\n",
       "      <td>225.721264</td>\n",
       "      <td>2.953305</td>\n",
       "      <td>31.240661</td>\n",
       "      <td>0.494253</td>\n",
       "    </tr>\n",
       "    <tr>\n",
       "      <th>yes</th>\n",
       "      <td>38.786096</td>\n",
       "      <td>2351.807487</td>\n",
       "      <td>15.401070</td>\n",
       "      <td>584.042781</td>\n",
       "      <td>2.106952</td>\n",
       "      <td>60.850267</td>\n",
       "      <td>0.978610</td>\n",
       "    </tr>\n",
       "    <tr>\n",
       "      <th rowspan=\"2\" valign=\"top\">services</th>\n",
       "      <th>no</th>\n",
       "      <td>38.863144</td>\n",
       "      <td>985.851783</td>\n",
       "      <td>15.688243</td>\n",
       "      <td>223.979921</td>\n",
       "      <td>2.776222</td>\n",
       "      <td>38.846235</td>\n",
       "      <td>0.448613</td>\n",
       "    </tr>\n",
       "    <tr>\n",
       "      <th>yes</th>\n",
       "      <td>37.479675</td>\n",
       "      <td>1112.344173</td>\n",
       "      <td>15.094851</td>\n",
       "      <td>621.804878</td>\n",
       "      <td>2.124661</td>\n",
       "      <td>74.295393</td>\n",
       "      <td>1.040650</td>\n",
       "    </tr>\n",
       "    <tr>\n",
       "      <th rowspan=\"2\" valign=\"top\">student</th>\n",
       "      <th>no</th>\n",
       "      <td>26.862481</td>\n",
       "      <td>1347.578475</td>\n",
       "      <td>14.647235</td>\n",
       "      <td>197.784753</td>\n",
       "      <td>2.420030</td>\n",
       "      <td>49.058296</td>\n",
       "      <td>0.799701</td>\n",
       "    </tr>\n",
       "    <tr>\n",
       "      <th>yes</th>\n",
       "      <td>25.747212</td>\n",
       "      <td>1488.739777</td>\n",
       "      <td>15.520446</td>\n",
       "      <td>368.200743</td>\n",
       "      <td>2.000000</td>\n",
       "      <td>76.895911</td>\n",
       "      <td>1.334572</td>\n",
       "    </tr>\n",
       "    <tr>\n",
       "      <th rowspan=\"2\" valign=\"top\">technician</th>\n",
       "      <th>no</th>\n",
       "      <td>39.344532</td>\n",
       "      <td>1179.842830</td>\n",
       "      <td>16.544472</td>\n",
       "      <td>217.285038</td>\n",
       "      <td>3.000000</td>\n",
       "      <td>34.000444</td>\n",
       "      <td>0.493414</td>\n",
       "    </tr>\n",
       "    <tr>\n",
       "      <th>yes</th>\n",
       "      <td>39.073810</td>\n",
       "      <td>1838.152381</td>\n",
       "      <td>15.315476</td>\n",
       "      <td>539.433333</td>\n",
       "      <td>2.157143</td>\n",
       "      <td>62.892857</td>\n",
       "      <td>1.227381</td>\n",
       "    </tr>\n",
       "    <tr>\n",
       "      <th rowspan=\"2\" valign=\"top\">unemployed</th>\n",
       "      <th>no</th>\n",
       "      <td>40.978202</td>\n",
       "      <td>1556.144414</td>\n",
       "      <td>15.592189</td>\n",
       "      <td>239.533152</td>\n",
       "      <td>2.520436</td>\n",
       "      <td>25.046322</td>\n",
       "      <td>0.321526</td>\n",
       "    </tr>\n",
       "    <tr>\n",
       "      <th>yes</th>\n",
       "      <td>40.871287</td>\n",
       "      <td>1334.257426</td>\n",
       "      <td>14.985149</td>\n",
       "      <td>555.673267</td>\n",
       "      <td>1.950495</td>\n",
       "      <td>83.747525</td>\n",
       "      <td>1.257426</td>\n",
       "    </tr>\n",
       "    <tr>\n",
       "      <th rowspan=\"2\" valign=\"top\">unknown</th>\n",
       "      <th>no</th>\n",
       "      <td>47.637795</td>\n",
       "      <td>1710.712598</td>\n",
       "      <td>14.586614</td>\n",
       "      <td>205.673228</td>\n",
       "      <td>3.492126</td>\n",
       "      <td>12.000000</td>\n",
       "      <td>0.192913</td>\n",
       "    </tr>\n",
       "    <tr>\n",
       "      <th>yes</th>\n",
       "      <td>47.264706</td>\n",
       "      <td>2232.882353</td>\n",
       "      <td>15.058824</td>\n",
       "      <td>476.205882</td>\n",
       "      <td>1.941176</td>\n",
       "      <td>88.088235</td>\n",
       "      <td>1.264706</td>\n",
       "    </tr>\n",
       "  </tbody>\n",
       "</table>\n",
       "</div>"
      ],
      "text/plain": [
       "                            age      balance        day    duration  campaign  \\\n",
       "job           Target                                                            \n",
       "admin.        no      39.266300  1093.942070  15.633700  211.285903  2.647797   \n",
       "              yes     39.459588  1437.283677  15.064976  503.114105  2.053883   \n",
       "blue-collar   no      40.143506  1063.402371  15.483599  230.541445  2.866467   \n",
       "              yes     38.776836  1275.420904  14.919492  675.355932  2.186441   \n",
       "entrepreneur  no      42.145894  1494.642229  15.775660  221.439883  2.793255   \n",
       "              yes     42.691057  1818.975610  14.886179  642.991870  2.869919   \n",
       "housemaid     no      46.140584  1353.740053  15.961096  216.251105  2.848806   \n",
       "              yes     49.266055  1793.486239  16.431193  552.688073  2.532110   \n",
       "management    no      40.534878  1703.472723  16.296433  214.819909  2.966041   \n",
       "              yes     39.914681  2140.707917  14.971560  499.620292  2.226749   \n",
       "retired       no      59.912471  1775.685927  15.435355  236.303204  2.486842   \n",
       "              yes     67.434109  2690.627907  15.453488  460.325581  1.872093   \n",
       "self-employed no      40.712644  1553.418103  16.112069  225.721264  2.953305   \n",
       "              yes     38.786096  2351.807487  15.401070  584.042781  2.106952   \n",
       "services      no      38.863144   985.851783  15.688243  223.979921  2.776222   \n",
       "              yes     37.479675  1112.344173  15.094851  621.804878  2.124661   \n",
       "student       no      26.862481  1347.578475  14.647235  197.784753  2.420030   \n",
       "              yes     25.747212  1488.739777  15.520446  368.200743  2.000000   \n",
       "technician    no      39.344532  1179.842830  16.544472  217.285038  3.000000   \n",
       "              yes     39.073810  1838.152381  15.315476  539.433333  2.157143   \n",
       "unemployed    no      40.978202  1556.144414  15.592189  239.533152  2.520436   \n",
       "              yes     40.871287  1334.257426  14.985149  555.673267  1.950495   \n",
       "unknown       no      47.637795  1710.712598  14.586614  205.673228  3.492126   \n",
       "              yes     47.264706  2232.882353  15.058824  476.205882  1.941176   \n",
       "\n",
       "                          pdays  previous  \n",
       "job           Target                       \n",
       "admin.        no      43.544714  0.586784  \n",
       "              yes     78.900158  1.282092  \n",
       "blue-collar   no      43.334220  0.477948  \n",
       "              yes     52.946328  0.851695  \n",
       "entrepreneur  no      31.364370  0.455279  \n",
       "              yes     44.926829  0.731707  \n",
       "housemaid     no      18.093722  0.332449  \n",
       "              yes     56.908257  0.779817  \n",
       "management    no      32.797107  0.565894  \n",
       "              yes     75.458878  1.308224  \n",
       "retired       no      29.060069  0.457094  \n",
       "              yes     65.844961  1.253876  \n",
       "self-employed no      31.240661  0.494253  \n",
       "              yes     60.850267  0.978610  \n",
       "services      no      38.846235  0.448613  \n",
       "              yes     74.295393  1.040650  \n",
       "student       no      49.058296  0.799701  \n",
       "              yes     76.895911  1.334572  \n",
       "technician    no      34.000444  0.493414  \n",
       "              yes     62.892857  1.227381  \n",
       "unemployed    no      25.046322  0.321526  \n",
       "              yes     83.747525  1.257426  \n",
       "unknown       no      12.000000  0.192913  \n",
       "              yes     88.088235  1.264706  "
      ]
     },
     "execution_count": 29,
     "metadata": {},
     "output_type": "execute_result"
    }
   ],
   "source": [
    "bank_data.groupby(['job', 'Target'])[conts].mean()"
   ]
  },
  {
   "cell_type": "markdown",
   "metadata": {},
   "source": [
    "**Observations**\n",
    "- the mean-balance for those who bought the term deposit is much higher than for those who didn't buy.\n",
    "- the mean age of students is lowest while mean age for the retired is the highest, which is expected in a normal dataset. However the mean age for students who bought the term deposit is lower, while for the retired its higher for those who purchased the term deposit. from my intuition, I would have expected the reverse but as is with the dataset it looks like those who are not working ( *or geerating income* ) are most likey to purchase the term deposit than would those with income.\n",
    "\n",
    "- Also, previous ( *number of times the client has been contacted before for the last campaign to subscribe term deposit*) is higher across all job classes for clients who bought the term deposit than for those who didn't. Frequency of call will most probably indicate show of interest from the first contact which necessitated follow-up calls to clients"
   ]
  },
  {
   "cell_type": "code",
   "execution_count": 30,
   "metadata": {},
   "outputs": [
    {
     "data": {
      "image/png": "[encoded data removed]",
      "text/plain": [
       "<Figure size 1133.25x360 with 3 Axes>"
      ]
     },
     "metadata": {
      "needs_background": "light"
     },
     "output_type": "display_data"
    }
   ],
   "source": [
    "sns.catplot(x='marital', hue = 'Target', col = 'contact', data = bank_data, kind='count', sharey=False, sharex=False, col_wrap=3);"
   ]
  },
  {
   "cell_type": "markdown",
   "metadata": {},
   "source": [
    "Graphs show that most clients were contacted through their cellular devices. In all the contact categories, there are more clients who are married who bought the term deposit than any other marital status. However this is expected as the married are the modal class in the marital status variable."
   ]
  },
  {
   "cell_type": "code",
   "execution_count": 31,
   "metadata": {},
   "outputs": [
    {
     "data": {
      "image/png": "[encoded data removed]",
      "text/plain": [
       "<Figure size 1296x1296 with 3 Axes>"
      ]
     },
     "metadata": {
      "needs_background": "light"
     },
     "output_type": "display_data"
    }
   ],
   "source": [
    "plt.figure(figsize= (18,18))\n",
    "\n",
    "lst = ['poutcome', 'marital', 'contact']\n",
    "for col in lst:\n",
    "    plt.subplot(3,3,lst.index(col)+1)\n",
    "    sns.countplot(x=col, hue='Target', data=bank_data);"
   ]
  },
  {
   "cell_type": "markdown",
   "metadata": {},
   "source": [
    "**Balance** vs **Target**"
   ]
  },
  {
   "cell_type": "code",
   "execution_count": 32,
   "metadata": {},
   "outputs": [
    {
     "data": {
      "image/png": "[encoded data removed]",
      "text/plain": [
       "<Figure size 432x288 with 1 Axes>"
      ]
     },
     "metadata": {
      "needs_background": "light"
     },
     "output_type": "display_data"
    }
   ],
   "source": [
    "sns.violinplot(data=bank_data, x=\"education\", y=\"balance\", hue=\"Target\");"
   ]
  },
  {
   "cell_type": "code",
   "execution_count": 33,
   "metadata": {},
   "outputs": [
    {
     "data": {
      "image/png": "[encoded data removed]",
      "text/plain": [
       "<Figure size 432x288 with 1 Axes>"
      ]
     },
     "metadata": {
      "needs_background": "light"
     },
     "output_type": "display_data"
    }
   ],
   "source": [
    "sns.violinplot(data=bank_data, x=\"marital\", y=\"balance\", hue=\"Target\");"
   ]
  },
  {
   "cell_type": "code",
   "execution_count": 34,
   "metadata": {},
   "outputs": [
    {
     "data": {
      "text/plain": [
       "Target\n",
       "no     102127\n",
       "yes     81204\n",
       "Name: balance, dtype: int64"
      ]
     },
     "execution_count": 34,
     "metadata": {},
     "output_type": "execute_result"
    }
   ],
   "source": [
    "bank_data.groupby(['Target'])['balance'].max()"
   ]
  },
  {
   "cell_type": "code",
   "execution_count": 35,
   "metadata": {},
   "outputs": [
    {
     "data": {
      "text/plain": [
       "Target\n",
       "no    -8019\n",
       "yes   -3058\n",
       "Name: balance, dtype: int64"
      ]
     },
     "execution_count": 35,
     "metadata": {},
     "output_type": "execute_result"
    }
   ],
   "source": [
    "bank_data.groupby(['Target'])['balance'].min()"
   ]
  },
  {
   "cell_type": "code",
   "execution_count": 36,
   "metadata": {},
   "outputs": [
    {
     "data": {
      "text/plain": [
       "Target\n",
       "no     1303.714969\n",
       "yes    1804.267915\n",
       "Name: balance, dtype: float64"
      ]
     },
     "execution_count": 36,
     "metadata": {},
     "output_type": "execute_result"
    }
   ],
   "source": [
    "bank_data.groupby(['Target'])['balance'].mean()"
   ]
  },
  {
   "cell_type": "code",
   "execution_count": 37,
   "metadata": {},
   "outputs": [
    {
     "data": {
      "image/png": "[encoded data removed]",
      "text/plain": [
       "<Figure size 432x288 with 1 Axes>"
      ]
     },
     "metadata": {
      "needs_background": "light"
     },
     "output_type": "display_data"
    }
   ],
   "source": [
    "sns.scatterplot(x='duration', y='balance',  data=bank_data);"
   ]
  },
  {
   "cell_type": "markdown",
   "metadata": {},
   "source": [
    "**Observations**\n",
    "\n",
    "balance ........"
   ]
  },
  {
   "cell_type": "markdown",
   "metadata": {},
   "source": [
    "**Encoding bivariate data**"
   ]
  },
  {
   "cell_type": "code",
   "execution_count": 38,
   "metadata": {},
   "outputs": [],
   "source": [
    "lst = ['default', 'housing', 'loan','Target']\n",
    "for col in lst:\n",
    "    bank_data[col].replace({'yes':1, 'no':0}, inplace=True)"
   ]
  },
  {
   "cell_type": "code",
   "execution_count": 39,
   "metadata": {},
   "outputs": [
    {
     "data": {
      "text/html": [
       "<div>\n",
       "<style scoped>\n",
       "    .dataframe tbody tr th:only-of-type {\n",
       "        vertical-align: middle;\n",
       "    }\n",
       "\n",
       "    .dataframe tbody tr th {\n",
       "        vertical-align: top;\n",
       "    }\n",
       "\n",
       "    .dataframe thead th {\n",
       "        text-align: right;\n",
       "    }\n",
       "</style>\n",
       "<table border=\"1\" class=\"dataframe\">\n",
       "  <thead>\n",
       "    <tr style=\"text-align: right;\">\n",
       "      <th></th>\n",
       "      <th>age</th>\n",
       "      <th>job</th>\n",
       "      <th>marital</th>\n",
       "      <th>education</th>\n",
       "      <th>default</th>\n",
       "      <th>balance</th>\n",
       "      <th>housing</th>\n",
       "      <th>loan</th>\n",
       "      <th>contact</th>\n",
       "      <th>day</th>\n",
       "      <th>month</th>\n",
       "      <th>duration</th>\n",
       "      <th>campaign</th>\n",
       "      <th>pdays</th>\n",
       "      <th>previous</th>\n",
       "      <th>poutcome</th>\n",
       "      <th>Target</th>\n",
       "    </tr>\n",
       "  </thead>\n",
       "  <tbody>\n",
       "    <tr>\n",
       "      <th>0</th>\n",
       "      <td>58</td>\n",
       "      <td>management</td>\n",
       "      <td>married</td>\n",
       "      <td>tertiary</td>\n",
       "      <td>0</td>\n",
       "      <td>2143</td>\n",
       "      <td>1</td>\n",
       "      <td>0</td>\n",
       "      <td>unknown</td>\n",
       "      <td>5</td>\n",
       "      <td>may</td>\n",
       "      <td>261</td>\n",
       "      <td>1</td>\n",
       "      <td>-1</td>\n",
       "      <td>0</td>\n",
       "      <td>unknown</td>\n",
       "      <td>0</td>\n",
       "    </tr>\n",
       "    <tr>\n",
       "      <th>1</th>\n",
       "      <td>44</td>\n",
       "      <td>technician</td>\n",
       "      <td>single</td>\n",
       "      <td>secondary</td>\n",
       "      <td>0</td>\n",
       "      <td>29</td>\n",
       "      <td>1</td>\n",
       "      <td>0</td>\n",
       "      <td>unknown</td>\n",
       "      <td>5</td>\n",
       "      <td>may</td>\n",
       "      <td>151</td>\n",
       "      <td>1</td>\n",
       "      <td>-1</td>\n",
       "      <td>0</td>\n",
       "      <td>unknown</td>\n",
       "      <td>0</td>\n",
       "    </tr>\n",
       "    <tr>\n",
       "      <th>2</th>\n",
       "      <td>33</td>\n",
       "      <td>entrepreneur</td>\n",
       "      <td>married</td>\n",
       "      <td>secondary</td>\n",
       "      <td>0</td>\n",
       "      <td>2</td>\n",
       "      <td>1</td>\n",
       "      <td>1</td>\n",
       "      <td>unknown</td>\n",
       "      <td>5</td>\n",
       "      <td>may</td>\n",
       "      <td>76</td>\n",
       "      <td>1</td>\n",
       "      <td>-1</td>\n",
       "      <td>0</td>\n",
       "      <td>unknown</td>\n",
       "      <td>0</td>\n",
       "    </tr>\n",
       "    <tr>\n",
       "      <th>3</th>\n",
       "      <td>47</td>\n",
       "      <td>blue-collar</td>\n",
       "      <td>married</td>\n",
       "      <td>unknown</td>\n",
       "      <td>0</td>\n",
       "      <td>1506</td>\n",
       "      <td>1</td>\n",
       "      <td>0</td>\n",
       "      <td>unknown</td>\n",
       "      <td>5</td>\n",
       "      <td>may</td>\n",
       "      <td>92</td>\n",
       "      <td>1</td>\n",
       "      <td>-1</td>\n",
       "      <td>0</td>\n",
       "      <td>unknown</td>\n",
       "      <td>0</td>\n",
       "    </tr>\n",
       "    <tr>\n",
       "      <th>4</th>\n",
       "      <td>33</td>\n",
       "      <td>unknown</td>\n",
       "      <td>single</td>\n",
       "      <td>unknown</td>\n",
       "      <td>0</td>\n",
       "      <td>1</td>\n",
       "      <td>0</td>\n",
       "      <td>0</td>\n",
       "      <td>unknown</td>\n",
       "      <td>5</td>\n",
       "      <td>may</td>\n",
       "      <td>198</td>\n",
       "      <td>1</td>\n",
       "      <td>-1</td>\n",
       "      <td>0</td>\n",
       "      <td>unknown</td>\n",
       "      <td>0</td>\n",
       "    </tr>\n",
       "  </tbody>\n",
       "</table>\n",
       "</div>"
      ],
      "text/plain": [
       "   age           job  marital  education  default  balance  housing  loan  \\\n",
       "0   58    management  married   tertiary        0     2143        1     0   \n",
       "1   44    technician   single  secondary        0       29        1     0   \n",
       "2   33  entrepreneur  married  secondary        0        2        1     1   \n",
       "3   47   blue-collar  married    unknown        0     1506        1     0   \n",
       "4   33       unknown   single    unknown        0        1        0     0   \n",
       "\n",
       "   contact  day month  duration  campaign  pdays  previous poutcome  Target  \n",
       "0  unknown    5   may       261         1     -1         0  unknown       0  \n",
       "1  unknown    5   may       151         1     -1         0  unknown       0  \n",
       "2  unknown    5   may        76         1     -1         0  unknown       0  \n",
       "3  unknown    5   may        92         1     -1         0  unknown       0  \n",
       "4  unknown    5   may       198         1     -1         0  unknown       0  "
      ]
     },
     "execution_count": 39,
     "metadata": {},
     "output_type": "execute_result"
    }
   ],
   "source": [
    "bank_data.head()"
   ]
  },
  {
   "cell_type": "code",
   "execution_count": 40,
   "metadata": {},
   "outputs": [],
   "source": [
    "# However we want to see correlation in graphical representation so below is function for that\n",
    "def plot_corr(df, size=11):\n",
    "    corr = df.corr()\n",
    "    fig, ax = plt.subplots(figsize=(size, size))\n",
    "    ax.matshow(corr)\n",
    "    plt.xticks(range(len(corr.columns)), corr.columns)\n",
    "    plt.yticks(range(len(corr.columns)), corr.columns)\n",
    "    for (i, j), z in np.ndenumerate(corr):\n",
    "        ax.text(j, i, '{:0.1f}'.format(z), ha='center', va='center')"
   ]
  },
  {
   "cell_type": "code",
   "execution_count": 41,
   "metadata": {},
   "outputs": [
    {
     "data": {
      "image/png": "[encoded data removed]",
      "text/plain": [
       "<Figure size 576x576 with 2 Axes>"
      ]
     },
     "metadata": {
      "needs_background": "light"
     },
     "output_type": "display_data"
    }
   ],
   "source": [
    "plt.figure(figsize= (8,8))\n",
    "sns.heatmap(bank_data[conts].corr(), annot=True, fmt='.1g');"
   ]
  },
  {
   "cell_type": "code",
   "execution_count": 42,
   "metadata": {},
   "outputs": [
    {
     "data": {
      "image/png": "[encoded data removed]",
      "text/plain": [
       "<Figure size 576x576 with 2 Axes>"
      ]
     },
     "metadata": {
      "needs_background": "light"
     },
     "output_type": "display_data"
    }
   ],
   "source": [
    "plt.figure(figsize= (8,8))\n",
    "sns.heatmap(bank_data[['age', 'balance','day', 'duration', 'campaign', 'pdays', 'Target']].corr(), annot=True);"
   ]
  },
  {
   "cell_type": "markdown",
   "metadata": {},
   "source": [
    "# Data Preparation"
   ]
  },
  {
   "cell_type": "markdown",
   "metadata": {},
   "source": [
    "> We have continuous data with different scales therefore we go on to do scaled data for continuous variables so as to standardize the dataset for logistics regression <br>\n",
    "> We also have categorical features, which we will encode in two different ways (One-hot-encode for multi-level categorical variables, and label encoding for binary variables) <br>"
   ]
  },
  {
   "cell_type": "code",
   "execution_count": 43,
   "metadata": {},
   "outputs": [],
   "source": [
    "from sklearn.preprocessing import StandardScaler, LabelEncoder\n",
    "from sklearn.model_selection import train_test_split"
   ]
  },
  {
   "cell_type": "code",
   "execution_count": 44,
   "metadata": {},
   "outputs": [
    {
     "data": {
      "text/html": [
       "<div>\n",
       "<style scoped>\n",
       "    .dataframe tbody tr th:only-of-type {\n",
       "        vertical-align: middle;\n",
       "    }\n",
       "\n",
       "    .dataframe tbody tr th {\n",
       "        vertical-align: top;\n",
       "    }\n",
       "\n",
       "    .dataframe thead th {\n",
       "        text-align: right;\n",
       "    }\n",
       "</style>\n",
       "<table border=\"1\" class=\"dataframe\">\n",
       "  <thead>\n",
       "    <tr style=\"text-align: right;\">\n",
       "      <th></th>\n",
       "      <th>age</th>\n",
       "      <th>job</th>\n",
       "      <th>marital</th>\n",
       "      <th>education</th>\n",
       "      <th>default</th>\n",
       "      <th>balance</th>\n",
       "      <th>housing</th>\n",
       "      <th>loan</th>\n",
       "      <th>contact</th>\n",
       "      <th>day</th>\n",
       "      <th>month</th>\n",
       "      <th>duration</th>\n",
       "      <th>campaign</th>\n",
       "      <th>pdays</th>\n",
       "      <th>previous</th>\n",
       "      <th>poutcome</th>\n",
       "      <th>Target</th>\n",
       "    </tr>\n",
       "  </thead>\n",
       "  <tbody>\n",
       "    <tr>\n",
       "      <th>0</th>\n",
       "      <td>58</td>\n",
       "      <td>management</td>\n",
       "      <td>married</td>\n",
       "      <td>tertiary</td>\n",
       "      <td>0</td>\n",
       "      <td>2143</td>\n",
       "      <td>1</td>\n",
       "      <td>0</td>\n",
       "      <td>unknown</td>\n",
       "      <td>5</td>\n",
       "      <td>may</td>\n",
       "      <td>261</td>\n",
       "      <td>1</td>\n",
       "      <td>-1</td>\n",
       "      <td>0</td>\n",
       "      <td>unknown</td>\n",
       "      <td>0</td>\n",
       "    </tr>\n",
       "    <tr>\n",
       "      <th>1</th>\n",
       "      <td>44</td>\n",
       "      <td>technician</td>\n",
       "      <td>single</td>\n",
       "      <td>secondary</td>\n",
       "      <td>0</td>\n",
       "      <td>29</td>\n",
       "      <td>1</td>\n",
       "      <td>0</td>\n",
       "      <td>unknown</td>\n",
       "      <td>5</td>\n",
       "      <td>may</td>\n",
       "      <td>151</td>\n",
       "      <td>1</td>\n",
       "      <td>-1</td>\n",
       "      <td>0</td>\n",
       "      <td>unknown</td>\n",
       "      <td>0</td>\n",
       "    </tr>\n",
       "    <tr>\n",
       "      <th>2</th>\n",
       "      <td>33</td>\n",
       "      <td>entrepreneur</td>\n",
       "      <td>married</td>\n",
       "      <td>secondary</td>\n",
       "      <td>0</td>\n",
       "      <td>2</td>\n",
       "      <td>1</td>\n",
       "      <td>1</td>\n",
       "      <td>unknown</td>\n",
       "      <td>5</td>\n",
       "      <td>may</td>\n",
       "      <td>76</td>\n",
       "      <td>1</td>\n",
       "      <td>-1</td>\n",
       "      <td>0</td>\n",
       "      <td>unknown</td>\n",
       "      <td>0</td>\n",
       "    </tr>\n",
       "    <tr>\n",
       "      <th>3</th>\n",
       "      <td>47</td>\n",
       "      <td>blue-collar</td>\n",
       "      <td>married</td>\n",
       "      <td>unknown</td>\n",
       "      <td>0</td>\n",
       "      <td>1506</td>\n",
       "      <td>1</td>\n",
       "      <td>0</td>\n",
       "      <td>unknown</td>\n",
       "      <td>5</td>\n",
       "      <td>may</td>\n",
       "      <td>92</td>\n",
       "      <td>1</td>\n",
       "      <td>-1</td>\n",
       "      <td>0</td>\n",
       "      <td>unknown</td>\n",
       "      <td>0</td>\n",
       "    </tr>\n",
       "    <tr>\n",
       "      <th>4</th>\n",
       "      <td>33</td>\n",
       "      <td>unknown</td>\n",
       "      <td>single</td>\n",
       "      <td>unknown</td>\n",
       "      <td>0</td>\n",
       "      <td>1</td>\n",
       "      <td>0</td>\n",
       "      <td>0</td>\n",
       "      <td>unknown</td>\n",
       "      <td>5</td>\n",
       "      <td>may</td>\n",
       "      <td>198</td>\n",
       "      <td>1</td>\n",
       "      <td>-1</td>\n",
       "      <td>0</td>\n",
       "      <td>unknown</td>\n",
       "      <td>0</td>\n",
       "    </tr>\n",
       "  </tbody>\n",
       "</table>\n",
       "</div>"
      ],
      "text/plain": [
       "   age           job  marital  education  default  balance  housing  loan  \\\n",
       "0   58    management  married   tertiary        0     2143        1     0   \n",
       "1   44    technician   single  secondary        0       29        1     0   \n",
       "2   33  entrepreneur  married  secondary        0        2        1     1   \n",
       "3   47   blue-collar  married    unknown        0     1506        1     0   \n",
       "4   33       unknown   single    unknown        0        1        0     0   \n",
       "\n",
       "   contact  day month  duration  campaign  pdays  previous poutcome  Target  \n",
       "0  unknown    5   may       261         1     -1         0  unknown       0  \n",
       "1  unknown    5   may       151         1     -1         0  unknown       0  \n",
       "2  unknown    5   may        76         1     -1         0  unknown       0  \n",
       "3  unknown    5   may        92         1     -1         0  unknown       0  \n",
       "4  unknown    5   may       198         1     -1         0  unknown       0  "
      ]
     },
     "execution_count": 44,
     "metadata": {},
     "output_type": "execute_result"
    }
   ],
   "source": [
    "bank_data.head()"
   ]
  },
  {
   "cell_type": "code",
   "execution_count": 45,
   "metadata": {},
   "outputs": [],
   "source": [
    "o_conts = ['age', 'balance', 'day', 'duration']   # columns to be treated for outliers\n",
    "df = bank_data.copy()\n",
    "\n",
    "lwr = df[o_conts].quantile(0.25)\n",
    "upr = df[o_conts].quantile(0.75)\n",
    "IQR = upr - lwr\n",
    "\n",
    "outliers_low = (df[o_conts] < lwr - 1.5*IQR)\n",
    "outliers_high = (df[o_conts] > upr + 1.5*IQR)\n",
    "\n",
    "# df[conts][outliers_low] = np.nan\n",
    "# df[conts].fillna(lwr, inplace=True)\n",
    "\n",
    "df[o_conts] = df[o_conts].mask(outliers_low, lwr, axis=1)\n",
    "df[o_conts] = df[o_conts].mask(outliers_high, upr, axis=1)"
   ]
  },
  {
   "cell_type": "markdown",
   "metadata": {},
   "source": [
    "Checking if Outliers have been treated\n"
   ]
  },
  {
   "cell_type": "code",
   "execution_count": 46,
   "metadata": {},
   "outputs": [
    {
     "data": {
      "image/png": "[encoded data removed]",
      "text/plain": [
       "<Figure size 1296x1296 with 4 Axes>"
      ]
     },
     "metadata": {
      "needs_background": "light"
     },
     "output_type": "display_data"
    }
   ],
   "source": [
    "plt.figure(figsize= (18,18))\n",
    "\n",
    "for col in o_conts:\n",
    "    plt.subplot(4,2, o_conts.index(col)+1)\n",
    "    sns.boxplot(x=col, hue='Target', data=df);"
   ]
  },
  {
   "cell_type": "code",
   "execution_count": 47,
   "metadata": {},
   "outputs": [],
   "source": [
    "#Convert variables to a categorical variable wherever relevant\n",
    "\n",
    "c_lst = ['job', 'marital', 'education', 'contact', 'month', 'poutcome']\n",
    "for col in c_lst:\n",
    "    df[col] = df[col].astype('category')\n"
   ]
  },
  {
   "cell_type": "code",
   "execution_count": 48,
   "metadata": {},
   "outputs": [],
   "source": [
    "X = df.drop(['Target'], axis=1)\n",
    "y = df['Target']"
   ]
  },
  {
   "cell_type": "code",
   "execution_count": 49,
   "metadata": {},
   "outputs": [],
   "source": [
    "le = LabelEncoder()\n",
    "\n",
    "X_le = X.copy()\n",
    "\n",
    "for col in c_lst:\n",
    "    X_le[col] = le.fit_transform(X_le[col])"
   ]
  },
  {
   "cell_type": "code",
   "execution_count": 50,
   "metadata": {},
   "outputs": [],
   "source": [
    "X_ohe = pd.get_dummies(X, drop_first=True)"
   ]
  },
  {
   "cell_type": "markdown",
   "metadata": {},
   "source": [
    "# Standardizing the data"
   ]
  },
  {
   "cell_type": "code",
   "execution_count": 51,
   "metadata": {},
   "outputs": [],
   "source": [
    "scaler = StandardScaler()\n",
    "X_ohe[conts] = scaler.fit_transform(X_ohe[conts])"
   ]
  },
  {
   "cell_type": "code",
   "execution_count": 52,
   "metadata": {},
   "outputs": [
    {
     "data": {
      "text/html": [
       "<div>\n",
       "<style scoped>\n",
       "    .dataframe tbody tr th:only-of-type {\n",
       "        vertical-align: middle;\n",
       "    }\n",
       "\n",
       "    .dataframe tbody tr th {\n",
       "        vertical-align: top;\n",
       "    }\n",
       "\n",
       "    .dataframe thead th {\n",
       "        text-align: right;\n",
       "    }\n",
       "</style>\n",
       "<table border=\"1\" class=\"dataframe\">\n",
       "  <thead>\n",
       "    <tr style=\"text-align: right;\">\n",
       "      <th></th>\n",
       "      <th>age</th>\n",
       "      <th>default</th>\n",
       "      <th>balance</th>\n",
       "      <th>housing</th>\n",
       "      <th>loan</th>\n",
       "      <th>day</th>\n",
       "      <th>duration</th>\n",
       "      <th>campaign</th>\n",
       "      <th>pdays</th>\n",
       "      <th>previous</th>\n",
       "      <th>...</th>\n",
       "      <th>month_jul</th>\n",
       "      <th>month_jun</th>\n",
       "      <th>month_mar</th>\n",
       "      <th>month_may</th>\n",
       "      <th>month_nov</th>\n",
       "      <th>month_oct</th>\n",
       "      <th>month_sep</th>\n",
       "      <th>poutcome_other</th>\n",
       "      <th>poutcome_success</th>\n",
       "      <th>poutcome_unknown</th>\n",
       "    </tr>\n",
       "  </thead>\n",
       "  <tbody>\n",
       "    <tr>\n",
       "      <th>0</th>\n",
       "      <td>1.745443</td>\n",
       "      <td>0</td>\n",
       "      <td>1.702098</td>\n",
       "      <td>1</td>\n",
       "      <td>0</td>\n",
       "      <td>-1.298476</td>\n",
       "      <td>0.354527</td>\n",
       "      <td>-0.569351</td>\n",
       "      <td>-0.411453</td>\n",
       "      <td>-0.25194</td>\n",
       "      <td>...</td>\n",
       "      <td>0</td>\n",
       "      <td>0</td>\n",
       "      <td>0</td>\n",
       "      <td>1</td>\n",
       "      <td>0</td>\n",
       "      <td>0</td>\n",
       "      <td>0</td>\n",
       "      <td>0</td>\n",
       "      <td>0</td>\n",
       "      <td>1</td>\n",
       "    </tr>\n",
       "    <tr>\n",
       "      <th>1</th>\n",
       "      <td>0.338976</td>\n",
       "      <td>0</td>\n",
       "      <td>-0.830949</td>\n",
       "      <td>1</td>\n",
       "      <td>0</td>\n",
       "      <td>-1.298476</td>\n",
       "      <td>-0.437406</td>\n",
       "      <td>-0.569351</td>\n",
       "      <td>-0.411453</td>\n",
       "      <td>-0.25194</td>\n",
       "      <td>...</td>\n",
       "      <td>0</td>\n",
       "      <td>0</td>\n",
       "      <td>0</td>\n",
       "      <td>1</td>\n",
       "      <td>0</td>\n",
       "      <td>0</td>\n",
       "      <td>0</td>\n",
       "      <td>0</td>\n",
       "      <td>0</td>\n",
       "      <td>1</td>\n",
       "    </tr>\n",
       "    <tr>\n",
       "      <th>2</th>\n",
       "      <td>-0.766105</td>\n",
       "      <td>0</td>\n",
       "      <td>-0.863301</td>\n",
       "      <td>1</td>\n",
       "      <td>1</td>\n",
       "      <td>-1.298476</td>\n",
       "      <td>-0.977361</td>\n",
       "      <td>-0.569351</td>\n",
       "      <td>-0.411453</td>\n",
       "      <td>-0.25194</td>\n",
       "      <td>...</td>\n",
       "      <td>0</td>\n",
       "      <td>0</td>\n",
       "      <td>0</td>\n",
       "      <td>1</td>\n",
       "      <td>0</td>\n",
       "      <td>0</td>\n",
       "      <td>0</td>\n",
       "      <td>0</td>\n",
       "      <td>0</td>\n",
       "      <td>1</td>\n",
       "    </tr>\n",
       "    <tr>\n",
       "      <th>3</th>\n",
       "      <td>0.640362</td>\n",
       "      <td>0</td>\n",
       "      <td>0.938829</td>\n",
       "      <td>1</td>\n",
       "      <td>0</td>\n",
       "      <td>-1.298476</td>\n",
       "      <td>-0.862170</td>\n",
       "      <td>-0.569351</td>\n",
       "      <td>-0.411453</td>\n",
       "      <td>-0.25194</td>\n",
       "      <td>...</td>\n",
       "      <td>0</td>\n",
       "      <td>0</td>\n",
       "      <td>0</td>\n",
       "      <td>1</td>\n",
       "      <td>0</td>\n",
       "      <td>0</td>\n",
       "      <td>0</td>\n",
       "      <td>0</td>\n",
       "      <td>0</td>\n",
       "      <td>1</td>\n",
       "    </tr>\n",
       "    <tr>\n",
       "      <th>4</th>\n",
       "      <td>-0.766105</td>\n",
       "      <td>0</td>\n",
       "      <td>-0.864499</td>\n",
       "      <td>0</td>\n",
       "      <td>0</td>\n",
       "      <td>-1.298476</td>\n",
       "      <td>-0.099035</td>\n",
       "      <td>-0.569351</td>\n",
       "      <td>-0.411453</td>\n",
       "      <td>-0.25194</td>\n",
       "      <td>...</td>\n",
       "      <td>0</td>\n",
       "      <td>0</td>\n",
       "      <td>0</td>\n",
       "      <td>1</td>\n",
       "      <td>0</td>\n",
       "      <td>0</td>\n",
       "      <td>0</td>\n",
       "      <td>0</td>\n",
       "      <td>0</td>\n",
       "      <td>1</td>\n",
       "    </tr>\n",
       "  </tbody>\n",
       "</table>\n",
       "<p>5 rows × 42 columns</p>\n",
       "</div>"
      ],
      "text/plain": [
       "        age  default   balance  housing  loan       day  duration  campaign  \\\n",
       "0  1.745443        0  1.702098        1     0 -1.298476  0.354527 -0.569351   \n",
       "1  0.338976        0 -0.830949        1     0 -1.298476 -0.437406 -0.569351   \n",
       "2 -0.766105        0 -0.863301        1     1 -1.298476 -0.977361 -0.569351   \n",
       "3  0.640362        0  0.938829        1     0 -1.298476 -0.862170 -0.569351   \n",
       "4 -0.766105        0 -0.864499        0     0 -1.298476 -0.099035 -0.569351   \n",
       "\n",
       "      pdays  previous  ...  month_jul  month_jun  month_mar  month_may  \\\n",
       "0 -0.411453  -0.25194  ...          0          0          0          1   \n",
       "1 -0.411453  -0.25194  ...          0          0          0          1   \n",
       "2 -0.411453  -0.25194  ...          0          0          0          1   \n",
       "3 -0.411453  -0.25194  ...          0          0          0          1   \n",
       "4 -0.411453  -0.25194  ...          0          0          0          1   \n",
       "\n",
       "   month_nov  month_oct  month_sep  poutcome_other  poutcome_success  \\\n",
       "0          0          0          0               0                 0   \n",
       "1          0          0          0               0                 0   \n",
       "2          0          0          0               0                 0   \n",
       "3          0          0          0               0                 0   \n",
       "4          0          0          0               0                 0   \n",
       "\n",
       "   poutcome_unknown  \n",
       "0                 1  \n",
       "1                 1  \n",
       "2                 1  \n",
       "3                 1  \n",
       "4                 1  \n",
       "\n",
       "[5 rows x 42 columns]"
      ]
     },
     "execution_count": 52,
     "metadata": {},
     "output_type": "execute_result"
    }
   ],
   "source": [
    "X_ohe.head()"
   ]
  },
  {
   "cell_type": "code",
   "execution_count": 53,
   "metadata": {},
   "outputs": [],
   "source": [
    "# Split the data1\n",
    "Xohe_train, Xohe_test, y_train, y_test = train_test_split(X_ohe, y, test_size=0.30, random_state=1)\n",
    "# Split the data2\n",
    "Xle_train, Xle_test, y_train, y_test = train_test_split(X_le, y, test_size=0.30, random_state=1)"
   ]
  },
  {
   "cell_type": "code",
   "execution_count": 54,
   "metadata": {},
   "outputs": [
    {
     "data": {
      "text/plain": [
       "0    0.881885\n",
       "1    0.118115\n",
       "Name: Target, dtype: float64"
      ]
     },
     "execution_count": 54,
     "metadata": {},
     "output_type": "execute_result"
    }
   ],
   "source": [
    "y_train.value_counts(normalize=True)"
   ]
  },
  {
   "cell_type": "code",
   "execution_count": 55,
   "metadata": {},
   "outputs": [
    {
     "data": {
      "text/plain": [
       "0    0.885653\n",
       "1    0.114347\n",
       "Name: Target, dtype: float64"
      ]
     },
     "execution_count": 55,
     "metadata": {},
     "output_type": "execute_result"
    }
   ],
   "source": [
    "y_test.value_counts(normalize=True)"
   ]
  },
  {
   "cell_type": "markdown",
   "metadata": {},
   "source": [
    "Random sampling did a very good job, managed to keep the distribution of the classes consistent between the two sets\n",
    "\n",
    "Even though the data is not balanced, the split is not biased wich is workable with\n",
    "\n",
    "# Logistics Regression"
   ]
  },
  {
   "cell_type": "markdown",
   "metadata": {},
   "source": [
    "Building the logistic regression model usins stasmodel first in order to understand the significance of each variable by assessing the p-values"
   ]
  },
  {
   "cell_type": "code",
   "execution_count": 56,
   "metadata": {},
   "outputs": [
    {
     "name": "stdout",
     "output_type": "stream",
     "text": [
      "Optimization terminated successfully.\n",
      "         Current function value: 0.264630\n",
      "         Iterations 8\n"
     ]
    }
   ],
   "source": [
    "import statsmodels.api as sm\n",
    "\n",
    "logit = sm.Logit(y_train, sm.add_constant(Xohe_train))\n",
    "lg = logit.fit()"
   ]
  },
  {
   "cell_type": "code",
   "execution_count": 57,
   "metadata": {},
   "outputs": [
    {
     "name": "stdout",
     "output_type": "stream",
     "text": [
      "                           Logit Regression Results                           \n",
      "==============================================================================\n",
      "Dep. Variable:                 Target   No. Observations:                31647\n",
      "Model:                          Logit   Df Residuals:                    31604\n",
      "Method:                           MLE   Df Model:                           42\n",
      "Date:                Fri, 09 Oct 2020   Pseudo R-squ.:                  0.2713\n",
      "Time:                        22:14:17   Log-Likelihood:                -8374.8\n",
      "converged:                       True   LL-Null:                       -11493.\n",
      "Covariance Type:            nonrobust   LLR p-value:                     0.000\n",
      "=======================================================================================\n",
      "                          coef    std err          z      P>|z|      [0.025      0.975]\n",
      "---------------------------------------------------------------------------------------\n",
      "const                  -1.7477      0.158    -11.053      0.000      -2.058      -1.438\n",
      "age                    -0.0596      0.025     -2.353      0.019      -0.109      -0.010\n",
      "default                -0.1794      0.195     -0.919      0.358      -0.562       0.203\n",
      "balance                 0.1512      0.020      7.577      0.000       0.112       0.190\n",
      "housing                -0.5335      0.049    -10.923      0.000      -0.629      -0.438\n",
      "loan                   -0.3376      0.067     -5.045      0.000      -0.469      -0.206\n",
      "day                     0.0558      0.024      2.372      0.018       0.010       0.102\n",
      "duration                0.8919      0.019     46.484      0.000       0.854       0.930\n",
      "campaign               -0.1732      0.034     -5.159      0.000      -0.239      -0.107\n",
      "pdays                  -0.0229      0.035     -0.646      0.518      -0.093       0.047\n",
      "previous                0.0367      0.027      1.347      0.178      -0.017       0.090\n",
      "job_blue-collar        -0.2261      0.081     -2.796      0.005      -0.385      -0.068\n",
      "job_entrepreneur       -0.4895      0.145     -3.375      0.001      -0.774      -0.205\n",
      "job_housemaid          -0.2870      0.152     -1.887      0.059      -0.585       0.011\n",
      "job_management         -0.1239      0.083     -1.489      0.137      -0.287       0.039\n",
      "job_retired             0.3759      0.104      3.602      0.000       0.171       0.580\n",
      "job_self-employed      -0.2487      0.127     -1.952      0.051      -0.498       0.001\n",
      "job_services           -0.1134      0.093     -1.224      0.221      -0.295       0.068\n",
      "job_student             0.3210      0.126      2.545      0.011       0.074       0.568\n",
      "job_technician         -0.1440      0.078     -1.838      0.066      -0.298       0.010\n",
      "job_unemployed         -0.0830      0.126     -0.658      0.510      -0.330       0.164\n",
      "job_unknown            -0.2782      0.271     -1.027      0.304      -0.809       0.253\n",
      "marital_married        -0.1936      0.066     -2.916      0.004      -0.324      -0.063\n",
      "marital_single          0.0388      0.076      0.513      0.608      -0.109       0.187\n",
      "education_secondary     0.1643      0.072      2.282      0.022       0.023       0.305\n",
      "education_tertiary      0.3833      0.084      4.536      0.000       0.218       0.549\n",
      "education_unknown       0.2527      0.118      2.146      0.032       0.022       0.484\n",
      "contact_telephone      -0.0867      0.083     -1.043      0.297      -0.250       0.076\n",
      "contact_unknown        -1.3559      0.080    -17.018      0.000      -1.512      -1.200\n",
      "month_aug              -0.5676      0.091     -6.257      0.000      -0.745      -0.390\n",
      "month_dec               0.7743      0.210      3.681      0.000       0.362       1.187\n",
      "month_feb              -0.1177      0.103     -1.142      0.253      -0.320       0.084\n",
      "month_jan              -1.0979      0.137     -8.030      0.000      -1.366      -0.830\n",
      "month_jul              -0.6246      0.088     -7.091      0.000      -0.797      -0.452\n",
      "month_jun               0.4946      0.107      4.632      0.000       0.285       0.704\n",
      "month_mar               1.4422      0.146      9.903      0.000       1.157       1.728\n",
      "month_may              -0.2976      0.083     -3.598      0.000      -0.460      -0.135\n",
      "month_nov              -0.6624      0.095     -6.984      0.000      -0.848      -0.477\n",
      "month_oct               1.0099      0.126      7.997      0.000       0.762       1.257\n",
      "month_sep               0.9340      0.137      6.805      0.000       0.665       1.203\n",
      "poutcome_other          0.1485      0.105      1.415      0.157      -0.057       0.354\n",
      "poutcome_success        2.1677      0.097     22.387      0.000       1.978       2.358\n",
      "poutcome_unknown        0.0022      0.112      0.020      0.984      -0.218       0.222\n",
      "=======================================================================================\n"
     ]
    }
   ],
   "source": [
    "#Summary of logistic regression\n",
    "from scipy import stats\n",
    "stats.chisqprob = lambda chisq, df: stats.chi2.sf(chisq, df)\n",
    "print(lg.summary())"
   ]
  },
  {
   "cell_type": "markdown",
   "metadata": {},
   "source": [
    "there are couple of p-values that indicate non-significance as they are greater than 0.05 alpha level of significance from the logistic regression model. Feature selection may be beyond the scope of this project hence it will not be pursued in this project."
   ]
  },
  {
   "cell_type": "code",
   "execution_count": 58,
   "metadata": {},
   "outputs": [
    {
     "data": {
      "text/plain": [
       "LogisticRegression(random_state=1, solver='liblinear')"
      ]
     },
     "execution_count": 58,
     "metadata": {},
     "output_type": "execute_result"
    }
   ],
   "source": [
    "from sklearn.metrics import confusion_matrix, recall_score, precision_score, f1_score, roc_auc_score, accuracy_score\n",
    "from sklearn.linear_model import LogisticRegression\n",
    "\n",
    "logreg = LogisticRegression(solver='liblinear', random_state=1)\n",
    "logreg.fit(Xohe_train, y_train) "
   ]
  },
  {
   "cell_type": "code",
   "execution_count": 59,
   "metadata": {},
   "outputs": [
    {
     "name": "stdout",
     "output_type": "stream",
     "text": [
      "training score: 89.50%\n",
      "out of sample: 89.55%\n",
      "Accuracy: 89.55%\n",
      "precision: 60.28%\n"
     ]
    }
   ],
   "source": [
    "# evaluate the model\n",
    "yhat = logreg.predict(Xohe_test)\n",
    "\n",
    "#evaluate learning\n",
    "print('training score:', format(logreg.score(Xohe_train, y_train), '.2%'))\n",
    "print('out of sample:', format(logreg.score(Xohe_test, y_test), '.2%'))\n",
    "\n",
    "# evaluate predictions\n",
    "accuracy = accuracy_score(y_test, yhat)\n",
    "print('Accuracy:', format(accuracy, '.2%'))\n",
    "\n",
    "# evaluate predictions\n",
    "precision = precision_score(y_test, yhat)\n",
    "print('precision:', format(precision, '.2%'))"
   ]
  },
  {
   "cell_type": "code",
   "execution_count": 60,
   "metadata": {},
   "outputs": [
    {
     "data": {
      "image/png": "[encoded data removed]",
      "text/plain": [
       "<Figure size 360x360 with 1 Axes>"
      ]
     },
     "metadata": {
      "needs_background": "light"
     },
     "output_type": "display_data"
    }
   ],
   "source": [
    "from sklearn.metrics import confusion_matrix\n",
    "\n",
    "\n",
    "cm= confusion_matrix(y_test, yhat)\n",
    "\n",
    "fig, ax = plt.subplots(figsize=(5, 5))\n",
    "ax.imshow(cm, cmap='Spectral_r')\n",
    "ax.grid(False)\n",
    "ax.xaxis.set(ticks=(0, 1), ticklabels=('Predicted 0s', 'Predicted 1s'))\n",
    "ax.yaxis.set(ticks=(0, 1), ticklabels=('Actual 0s', 'Actual 1s'))\n",
    "ax.set_ylim(1.5, -0.5)\n",
    "for i in range(2):\n",
    "    for j in range(2):\n",
    "        ax.text(j, i, cm[i, j], ha='center', va='center', color='black')"
   ]
  },
  {
   "cell_type": "code",
   "execution_count": 61,
   "metadata": {},
   "outputs": [
    {
     "name": "stdout",
     "output_type": "stream",
     "text": [
      "              precision    recall  f1-score   support\n",
      "\n",
      "           0       0.91      0.98      0.94     12013\n",
      "           1       0.60      0.25      0.35      1551\n",
      "\n",
      "    accuracy                           0.90     13564\n",
      "   macro avg       0.76      0.62      0.65     13564\n",
      "weighted avg       0.87      0.90      0.88     13564\n",
      "\n"
     ]
    }
   ],
   "source": [
    "from sklearn.metrics import classification_report\n",
    "\n",
    "print(classification_report(y_test, yhat))"
   ]
  },
  {
   "cell_type": "markdown",
   "metadata": {},
   "source": [
    "Model did well for 'Target' == 0 (NO), but did not do so well for 'Target' == 1(YES)<br>\n",
    "Some bit of hyper-parameter tuning to see if the model can be improved, i will run a loop on solver, and penalty to achieve this"
   ]
  },
  {
   "cell_type": "code",
   "execution_count": 62,
   "metadata": {},
   "outputs": [
    {
     "data": {
      "text/html": [
       "<div>\n",
       "<style scoped>\n",
       "    .dataframe tbody tr th:only-of-type {\n",
       "        vertical-align: middle;\n",
       "    }\n",
       "\n",
       "    .dataframe tbody tr th {\n",
       "        vertical-align: top;\n",
       "    }\n",
       "\n",
       "    .dataframe thead th {\n",
       "        text-align: right;\n",
       "    }\n",
       "</style>\n",
       "<table border=\"1\" class=\"dataframe\">\n",
       "  <thead>\n",
       "    <tr style=\"text-align: right;\">\n",
       "      <th></th>\n",
       "      <th>0</th>\n",
       "      <th>1</th>\n",
       "      <th>2</th>\n",
       "      <th>3</th>\n",
       "      <th>4</th>\n",
       "    </tr>\n",
       "  </thead>\n",
       "  <tbody>\n",
       "    <tr>\n",
       "      <th>Solver</th>\n",
       "      <td>liblinear</td>\n",
       "      <td>newton-cg</td>\n",
       "      <td>sag</td>\n",
       "      <td>saga</td>\n",
       "      <td>lbfgs</td>\n",
       "    </tr>\n",
       "    <tr>\n",
       "      <th>recall</th>\n",
       "      <td>0.251451</td>\n",
       "      <td>0.251451</td>\n",
       "      <td>0.250806</td>\n",
       "      <td>0.250806</td>\n",
       "      <td>0.251451</td>\n",
       "    </tr>\n",
       "    <tr>\n",
       "      <th>Precision</th>\n",
       "      <td>0.602782</td>\n",
       "      <td>0.601852</td>\n",
       "      <td>0.601236</td>\n",
       "      <td>0.601236</td>\n",
       "      <td>0.601852</td>\n",
       "    </tr>\n",
       "    <tr>\n",
       "      <th>roc_auc_score</th>\n",
       "      <td>0.75645</td>\n",
       "      <td>0.755982</td>\n",
       "      <td>0.755639</td>\n",
       "      <td>0.755639</td>\n",
       "      <td>0.755982</td>\n",
       "    </tr>\n",
       "  </tbody>\n",
       "</table>\n",
       "</div>"
      ],
      "text/plain": [
       "                       0          1         2         3         4\n",
       "Solver         liblinear  newton-cg       sag      saga     lbfgs\n",
       "recall          0.251451   0.251451  0.250806  0.250806  0.251451\n",
       "Precision       0.602782   0.601852  0.601236  0.601236  0.601852\n",
       "roc_auc_score    0.75645   0.755982  0.755639  0.755639  0.755982"
      ]
     },
     "execution_count": 62,
     "metadata": {},
     "output_type": "execute_result"
    }
   ],
   "source": [
    "param_list = ['liblinear', 'newton-cg', 'sag', 'saga', 'lbfgs']\n",
    "\n",
    "a, b, c , d= [], [], [], []\n",
    "for i in param_list:\n",
    "    model = LogisticRegression(solver= i, penalty='l2', random_state=1, max_iter=6000)\n",
    "    model.fit(Xohe_train, y_train)\n",
    "    y_pred = model.predict(Xohe_test)\n",
    "    a.append(i)\n",
    "    b.append(recall_score(y_test,y_pred))\n",
    "    c.append(precision_score(y_test,y_pred))\n",
    "    d.append(roc_auc_score(y_pred, y_test))\n",
    "        \n",
    "pd.DataFrame([a, b, c, d], index=['Solver', 'recall','Precision', 'roc_auc_score'])"
   ]
  },
  {
   "cell_type": "code",
   "execution_count": 63,
   "metadata": {},
   "outputs": [
    {
     "data": {
      "text/html": [
       "<div>\n",
       "<style scoped>\n",
       "    .dataframe tbody tr th:only-of-type {\n",
       "        vertical-align: middle;\n",
       "    }\n",
       "\n",
       "    .dataframe tbody tr th {\n",
       "        vertical-align: top;\n",
       "    }\n",
       "\n",
       "    .dataframe thead th {\n",
       "        text-align: right;\n",
       "    }\n",
       "</style>\n",
       "<table border=\"1\" class=\"dataframe\">\n",
       "  <thead>\n",
       "    <tr style=\"text-align: right;\">\n",
       "      <th></th>\n",
       "      <th>newton-cg</th>\n",
       "      <th>newton-cg</th>\n",
       "      <th>newton-cg</th>\n",
       "      <th>newton-cg</th>\n",
       "      <th>sag</th>\n",
       "      <th>sag</th>\n",
       "      <th>sag</th>\n",
       "      <th>sag</th>\n",
       "      <th>saga</th>\n",
       "      <th>saga</th>\n",
       "      <th>saga</th>\n",
       "      <th>saga</th>\n",
       "      <th>lbfgs</th>\n",
       "      <th>lbfgs</th>\n",
       "      <th>lbfgs</th>\n",
       "      <th>lbfgs</th>\n",
       "    </tr>\n",
       "  </thead>\n",
       "  <tbody>\n",
       "    <tr>\n",
       "      <th>train_score</th>\n",
       "      <td>0.895093</td>\n",
       "      <td>0.894998</td>\n",
       "      <td>0.894966</td>\n",
       "      <td>0.895061</td>\n",
       "      <td>0.895093</td>\n",
       "      <td>0.894998</td>\n",
       "      <td>0.894966</td>\n",
       "      <td>0.895093</td>\n",
       "      <td>0.895061</td>\n",
       "      <td>0.894966</td>\n",
       "      <td>0.894966</td>\n",
       "      <td>0.895061</td>\n",
       "      <td>0.895061</td>\n",
       "      <td>0.894998</td>\n",
       "      <td>0.894998</td>\n",
       "      <td>0.895030</td>\n",
       "    </tr>\n",
       "    <tr>\n",
       "      <th>precision_score</th>\n",
       "      <td>0.600311</td>\n",
       "      <td>0.601236</td>\n",
       "      <td>0.601852</td>\n",
       "      <td>0.602465</td>\n",
       "      <td>0.600932</td>\n",
       "      <td>0.602167</td>\n",
       "      <td>0.601236</td>\n",
       "      <td>0.602465</td>\n",
       "      <td>0.600932</td>\n",
       "      <td>0.602167</td>\n",
       "      <td>0.601236</td>\n",
       "      <td>0.602465</td>\n",
       "      <td>0.600932</td>\n",
       "      <td>0.600619</td>\n",
       "      <td>0.601852</td>\n",
       "      <td>0.602465</td>\n",
       "    </tr>\n",
       "    <tr>\n",
       "      <th>roc_auc_score</th>\n",
       "      <td>0.755074</td>\n",
       "      <td>0.755639</td>\n",
       "      <td>0.755982</td>\n",
       "      <td>0.756324</td>\n",
       "      <td>0.755419</td>\n",
       "      <td>0.756108</td>\n",
       "      <td>0.755639</td>\n",
       "      <td>0.756324</td>\n",
       "      <td>0.755419</td>\n",
       "      <td>0.756108</td>\n",
       "      <td>0.755639</td>\n",
       "      <td>0.756324</td>\n",
       "      <td>0.755419</td>\n",
       "      <td>0.755295</td>\n",
       "      <td>0.755982</td>\n",
       "      <td>0.756324</td>\n",
       "    </tr>\n",
       "  </tbody>\n",
       "</table>\n",
       "</div>"
      ],
      "text/plain": [
       "                 newton-cg  newton-cg  newton-cg  newton-cg       sag  \\\n",
       "train_score       0.895093   0.894998   0.894966   0.895061  0.895093   \n",
       "precision_score   0.600311   0.601236   0.601852   0.602465  0.600932   \n",
       "roc_auc_score     0.755074   0.755639   0.755982   0.756324  0.755419   \n",
       "\n",
       "                      sag       sag       sag      saga      saga      saga  \\\n",
       "train_score      0.894998  0.894966  0.895093  0.895061  0.894966  0.894966   \n",
       "precision_score  0.602167  0.601236  0.602465  0.600932  0.602167  0.601236   \n",
       "roc_auc_score    0.756108  0.755639  0.756324  0.755419  0.756108  0.755639   \n",
       "\n",
       "                     saga     lbfgs     lbfgs     lbfgs     lbfgs  \n",
       "train_score      0.895061  0.895061  0.894998  0.894998  0.895030  \n",
       "precision_score  0.602465  0.600932  0.600619  0.601852  0.602465  \n",
       "roc_auc_score    0.756324  0.755419  0.755295  0.755982  0.756324  "
      ]
     },
     "execution_count": 63,
     "metadata": {},
     "output_type": "execute_result"
    }
   ],
   "source": [
    "C = [0.5 , 0.75, 1, 1.25]\n",
    "# p = ['l1', 'l2']\n",
    "a, b, c , d= [], [], [], []\n",
    "for i in param_list[1:]:\n",
    "    for j in C:\n",
    "        model = LogisticRegression(solver= i, random_state=1, C = j, max_iter=1000)\n",
    "        model.fit(Xohe_train, y_train)\n",
    "        y_pred = model.predict(Xohe_test)\n",
    "        a.append(i)\n",
    "        b.append(model.score(Xohe_train, y_train))\n",
    "        c.append(precision_score(y_test,y_pred))\n",
    "        d.append(roc_auc_score(y_pred, y_test))\n",
    "        \n",
    "pd.DataFrame([b, c, d], index=['train_score','precision_score', 'roc_auc_score'], columns= a)"
   ]
  },
  {
   "cell_type": "markdown",
   "metadata": {},
   "source": [
    "From the tests above, hyper-parameter does not improve the model (improvement is by a small margin - only 3 observation are correctly predicted), hence we conclude the final model for the logistics regression is any one of the solvers *'lbfgs', 'newton-cg', 'sag'* , C=0.75 and max_iter = 1000 and default penalty. For the purposes of this study we will choose **'lbfs'**"
   ]
  },
  {
   "cell_type": "code",
   "execution_count": 64,
   "metadata": {},
   "outputs": [],
   "source": [
    "lr_fin = LogisticRegression(solver='lbfgs', C=0.75, max_iter=1000, random_state=1)\n",
    "lr_fin.fit(Xohe_train, y_train)\n",
    "y_lr = lr_fin.predict(Xohe_test)"
   ]
  },
  {
   "cell_type": "code",
   "execution_count": 65,
   "metadata": {},
   "outputs": [
    {
     "data": {
      "image/png": "[encoded data removed]",
      "text/plain": [
       "<Figure size 360x360 with 1 Axes>"
      ]
     },
     "metadata": {
      "needs_background": "light"
     },
     "output_type": "display_data"
    }
   ],
   "source": [
    "cm= confusion_matrix(y_test, y_lr)\n",
    "\n",
    "fig, ax = plt.subplots(figsize=(5, 5))\n",
    "ax.imshow(cm, cmap='Spectral_r')\n",
    "ax.grid(False)\n",
    "ax.xaxis.set(ticks=(0, 1), ticklabels=('Predicted 0s', 'Predicted 1s'))\n",
    "ax.yaxis.set(ticks=(0, 1), ticklabels=('Actual 0s', 'Actual 1s'))\n",
    "ax.set_ylim(1.5, -0.5)\n",
    "for i in range(2):\n",
    "    for j in range(2):\n",
    "        ax.text(j, i, cm[i, j], ha='center', va='center', color='black')"
   ]
  },
  {
   "cell_type": "code",
   "execution_count": 66,
   "metadata": {},
   "outputs": [
    {
     "name": "stdout",
     "output_type": "stream",
     "text": [
      "              precision    recall  f1-score   support\n",
      "\n",
      "           0       0.91      0.98      0.94     12013\n",
      "           1       0.60      0.25      0.35      1551\n",
      "\n",
      "    accuracy                           0.90     13564\n",
      "   macro avg       0.76      0.61      0.65     13564\n",
      "weighted avg       0.87      0.90      0.88     13564\n",
      "\n"
     ]
    }
   ],
   "source": [
    "print(classification_report(y_test, y_lr))"
   ]
  },
  {
   "cell_type": "markdown",
   "metadata": {},
   "source": [
    "# Decision Tree"
   ]
  },
  {
   "cell_type": "code",
   "execution_count": 67,
   "metadata": {},
   "outputs": [
    {
     "data": {
      "text/plain": [
       "DecisionTreeClassifier(random_state=1)"
      ]
     },
     "execution_count": 67,
     "metadata": {},
     "output_type": "execute_result"
    }
   ],
   "source": [
    "from sklearn.tree import DecisionTreeClassifier\n",
    "\n",
    "dt = DecisionTreeClassifier(criterion = 'gini', random_state=1)\n",
    "dt.fit(Xohe_train, y_train)"
   ]
  },
  {
   "cell_type": "code",
   "execution_count": 68,
   "metadata": {},
   "outputs": [],
   "source": [
    "ycap = dt.predict(Xohe_test)"
   ]
  },
  {
   "cell_type": "code",
   "execution_count": 69,
   "metadata": {},
   "outputs": [
    {
     "name": "stdout",
     "output_type": "stream",
     "text": [
      "1.0\n",
      "0.8723827779416101\n"
     ]
    }
   ],
   "source": [
    "print(dt.score(Xohe_train, y_train))\n",
    "print(dt.score(Xohe_test, y_test))"
   ]
  },
  {
   "cell_type": "code",
   "execution_count": 70,
   "metadata": {},
   "outputs": [
    {
     "name": "stdout",
     "output_type": "stream",
     "text": [
      "0.47904577691811734\n"
     ]
    }
   ],
   "source": [
    "print(precision_score(ycap, y_test))"
   ]
  },
  {
   "cell_type": "code",
   "execution_count": 71,
   "metadata": {},
   "outputs": [
    {
     "name": "stdout",
     "output_type": "stream",
     "text": [
      "              precision    recall  f1-score   support\n",
      "\n",
      "           0       0.93      0.92      0.93     12013\n",
      "           1       0.45      0.48      0.46      1551\n",
      "\n",
      "    accuracy                           0.87     13564\n",
      "   macro avg       0.69      0.70      0.69     13564\n",
      "weighted avg       0.88      0.87      0.87     13564\n",
      "\n"
     ]
    }
   ],
   "source": [
    "print(classification_report(y_test, ycap))"
   ]
  },
  {
   "cell_type": "code",
   "execution_count": 72,
   "metadata": {},
   "outputs": [
    {
     "data": {
      "text/plain": [
       "0.7011061732338859"
      ]
     },
     "execution_count": 72,
     "metadata": {},
     "output_type": "execute_result"
    }
   ],
   "source": [
    "from sklearn.metrics import roc_curve, auc\n",
    "false_positive_rate, true_positive_rate, thresholds = roc_curve(y_test, ycap)\n",
    "roc_auc = auc(false_positive_rate, true_positive_rate)\n",
    "roc_auc"
   ]
  },
  {
   "cell_type": "markdown",
   "metadata": {},
   "source": [
    "As in Logistic regression, Decision tree did not do well with classifying the 'YES' values, we will do some bit of parameter tuning to try and improve the model"
   ]
  },
  {
   "cell_type": "code",
   "execution_count": 73,
   "metadata": {},
   "outputs": [
    {
     "data": {
      "text/html": [
       "<div>\n",
       "<style scoped>\n",
       "    .dataframe tbody tr th:only-of-type {\n",
       "        vertical-align: middle;\n",
       "    }\n",
       "\n",
       "    .dataframe tbody tr th {\n",
       "        vertical-align: top;\n",
       "    }\n",
       "\n",
       "    .dataframe thead th {\n",
       "        text-align: right;\n",
       "    }\n",
       "</style>\n",
       "<table border=\"1\" class=\"dataframe\">\n",
       "  <thead>\n",
       "    <tr style=\"text-align: right;\">\n",
       "      <th></th>\n",
       "      <th>gini</th>\n",
       "      <th>entropy</th>\n",
       "    </tr>\n",
       "  </thead>\n",
       "  <tbody>\n",
       "    <tr>\n",
       "      <th>recall_score</th>\n",
       "      <td>0.479046</td>\n",
       "      <td>0.504836</td>\n",
       "    </tr>\n",
       "    <tr>\n",
       "      <th>precision_score</th>\n",
       "      <td>0.445978</td>\n",
       "      <td>0.460588</td>\n",
       "    </tr>\n",
       "    <tr>\n",
       "      <th>roc_auc_score</th>\n",
       "      <td>0.689034</td>\n",
       "      <td>0.697927</td>\n",
       "    </tr>\n",
       "  </tbody>\n",
       "</table>\n",
       "</div>"
      ],
      "text/plain": [
       "                     gini   entropy\n",
       "recall_score     0.479046  0.504836\n",
       "precision_score  0.445978  0.460588\n",
       "roc_auc_score    0.689034  0.697927"
      ]
     },
     "execution_count": 73,
     "metadata": {},
     "output_type": "execute_result"
    }
   ],
   "source": [
    "param_list = ['gini', 'entropy']\n",
    "\n",
    "a, b, c , d= [], [], [], []\n",
    "for i in param_list:\n",
    "    model = DecisionTreeClassifier(criterion= i, random_state=1)\n",
    "    model.fit(Xohe_train, y_train)\n",
    "    y_pred = model.predict(Xohe_test)\n",
    "    a.append(i)\n",
    "    b.append(recall_score(y_test,y_pred))\n",
    "    c.append(precision_score(y_test,y_pred))\n",
    "    d.append(roc_auc_score(y_pred, y_test))\n",
    "        \n",
    "pd.DataFrame([b, c, d], index = ['recall_score', 'precision_score', 'roc_auc_score'], columns=param_list)"
   ]
  },
  {
   "cell_type": "markdown",
   "metadata": {},
   "source": [
    "'entropy' does better than 'gini'"
   ]
  },
  {
   "cell_type": "code",
   "execution_count": 74,
   "metadata": {},
   "outputs": [
    {
     "data": {
      "text/html": [
       "<div>\n",
       "<style scoped>\n",
       "    .dataframe tbody tr th:only-of-type {\n",
       "        vertical-align: middle;\n",
       "    }\n",
       "\n",
       "    .dataframe tbody tr th {\n",
       "        vertical-align: top;\n",
       "    }\n",
       "\n",
       "    .dataframe thead th {\n",
       "        text-align: right;\n",
       "    }\n",
       "</style>\n",
       "<table border=\"1\" class=\"dataframe\">\n",
       "  <thead>\n",
       "    <tr style=\"text-align: right;\">\n",
       "      <th></th>\n",
       "      <th>3</th>\n",
       "      <th>4</th>\n",
       "      <th>5</th>\n",
       "      <th>6</th>\n",
       "      <th>7</th>\n",
       "      <th>8</th>\n",
       "      <th>9</th>\n",
       "    </tr>\n",
       "  </thead>\n",
       "  <tbody>\n",
       "    <tr>\n",
       "      <th>train_score</th>\n",
       "      <td>0.898695</td>\n",
       "      <td>0.898821</td>\n",
       "      <td>0.900149</td>\n",
       "      <td>0.901128</td>\n",
       "      <td>0.903466</td>\n",
       "      <td>0.905899</td>\n",
       "      <td>0.909944</td>\n",
       "    </tr>\n",
       "    <tr>\n",
       "      <th>test_score</th>\n",
       "      <td>0.900103</td>\n",
       "      <td>0.899808</td>\n",
       "      <td>0.901651</td>\n",
       "      <td>0.902020</td>\n",
       "      <td>0.899882</td>\n",
       "      <td>0.898924</td>\n",
       "      <td>0.899587</td>\n",
       "    </tr>\n",
       "    <tr>\n",
       "      <th>precision_score</th>\n",
       "      <td>0.592628</td>\n",
       "      <td>0.591255</td>\n",
       "      <td>0.657019</td>\n",
       "      <td>0.652473</td>\n",
       "      <td>0.627477</td>\n",
       "      <td>0.611386</td>\n",
       "      <td>0.601942</td>\n",
       "    </tr>\n",
       "    <tr>\n",
       "      <th>roc_auc_score</th>\n",
       "      <td>0.759372</td>\n",
       "      <td>0.758503</td>\n",
       "      <td>0.785901</td>\n",
       "      <td>0.784323</td>\n",
       "      <td>0.771730</td>\n",
       "      <td>0.764262</td>\n",
       "      <td>0.761681</td>\n",
       "    </tr>\n",
       "  </tbody>\n",
       "</table>\n",
       "</div>"
      ],
      "text/plain": [
       "                        3         4         5         6         7         8  \\\n",
       "train_score      0.898695  0.898821  0.900149  0.901128  0.903466  0.905899   \n",
       "test_score       0.900103  0.899808  0.901651  0.902020  0.899882  0.898924   \n",
       "precision_score  0.592628  0.591255  0.657019  0.652473  0.627477  0.611386   \n",
       "roc_auc_score    0.759372  0.758503  0.785901  0.784323  0.771730  0.764262   \n",
       "\n",
       "                        9  \n",
       "train_score      0.909944  \n",
       "test_score       0.899587  \n",
       "precision_score  0.601942  \n",
       "roc_auc_score    0.761681  "
      ]
     },
     "execution_count": 74,
     "metadata": {},
     "output_type": "execute_result"
    }
   ],
   "source": [
    "depth = [3, 4, 5, 6, 7, 8, 9]\n",
    "\n",
    "a, b, c , d= [], [], [], []\n",
    "for i in depth:\n",
    "    model = DecisionTreeClassifier(criterion= 'entropy', max_depth=i, random_state=1)\n",
    "    model.fit(Xohe_train, y_train)\n",
    "    y_pred = model.predict(Xohe_test)\n",
    "    a.append(model.score(Xohe_train, y_train))\n",
    "    b.append(model.score(Xohe_test, y_test))\n",
    "    c.append(precision_score(y_test,y_pred))\n",
    "    d.append(roc_auc_score(y_pred, y_test))\n",
    "        \n",
    "pd.DataFrame([a, b, c, d], index=['train_score','test_score','precision_score', 'roc_auc_score'], columns= depth)"
   ]
  },
  {
   "cell_type": "code",
   "execution_count": 75,
   "metadata": {},
   "outputs": [
    {
     "data": {
      "image/png": "[encoded data removed]",
      "text/plain": [
       "<Figure size 432x288 with 1 Axes>"
      ]
     },
     "metadata": {
      "needs_background": "light"
     },
     "output_type": "display_data"
    }
   ],
   "source": [
    "max_depths = np.linspace(1, 40, 40, endpoint=True)\n",
    "train_results, test_results = [], []\n",
    "\n",
    "for max_depth in max_depths:\n",
    "    dt = DecisionTreeClassifier(criterion='entropy',max_depth=max_depth)\n",
    "    dt.fit(Xohe_train, y_train)\n",
    "    train_cap = dt.predict(Xohe_train)\n",
    "    fpr_train, tpr_train, thresholds = roc_curve(y_train, train_cap)\n",
    "    roc_auc = auc(fpr_train, tpr_train)\n",
    "       # Add auc score to previous train results\n",
    "    train_results.append(roc_auc)\n",
    "    test_cap = dt.predict(Xohe_test)\n",
    "    fpr_test, tpr_test, thresholds = roc_curve(y_test, test_cap)\n",
    "    roc_auc = auc(fpr_test, tpr_test)\n",
    "       # Add auc score to previous test results\n",
    "    test_results.append(roc_auc)\n",
    "    \n",
    "from matplotlib.legend_handler import HandlerLine2D\n",
    "line1, = plt.plot(max_depths, train_results, 'b', label='AUC: Train set')\n",
    "line2, = plt.plot(max_depths, test_results, 'r', label='AUC: Test set')\n",
    "plt.legend(handler_map={line1: HandlerLine2D(numpoints=2)})\n",
    "plt.ylabel('AUC score')\n",
    "plt.xlabel('Tree depth')\n",
    "plt.show()"
   ]
  },
  {
   "cell_type": "markdown",
   "metadata": {},
   "source": [
    "It is clear that the model is inconsistent for depth below 3 but also overfits for large depth values. <br> \n",
    "The tree perfectly predicts all of the train data, however, in the process it also learns the noise and fails to generalize the findings for unseen data. Hence the best choice of max_depth is 6 in this case"
   ]
  },
  {
   "cell_type": "code",
   "execution_count": 76,
   "metadata": {},
   "outputs": [],
   "source": [
    "dt_fin = DecisionTreeClassifier(criterion='entropy', max_depth=6, random_state=1)\n",
    "dt_fin.fit(Xohe_train, y_train)\n",
    "y_dt = dt_fin.predict(Xohe_test)"
   ]
  },
  {
   "cell_type": "code",
   "execution_count": 77,
   "metadata": {},
   "outputs": [
    {
     "data": {
      "text/plain": [
       "0.6425967559429359"
      ]
     },
     "execution_count": 77,
     "metadata": {},
     "output_type": "execute_result"
    }
   ],
   "source": [
    "fpr, tpr, thresholds = roc_curve(y_test, y_dt)\n",
    "roc_auc = auc(fpr, tpr)\n",
    "roc_auc"
   ]
  },
  {
   "cell_type": "code",
   "execution_count": 78,
   "metadata": {},
   "outputs": [
    {
     "name": "stdout",
     "output_type": "stream",
     "text": [
      "              precision    recall  f1-score   support\n",
      "\n",
      "           0       0.92      0.98      0.95     12013\n",
      "           1       0.65      0.31      0.42      1551\n",
      "\n",
      "    accuracy                           0.90     13564\n",
      "   macro avg       0.78      0.64      0.68     13564\n",
      "weighted avg       0.89      0.90      0.89     13564\n",
      "\n"
     ]
    }
   ],
   "source": [
    "print(classification_report(y_test, y_dt))"
   ]
  },
  {
   "cell_type": "code",
   "execution_count": 79,
   "metadata": {
    "scrolled": true
   },
   "outputs": [
    {
     "name": "stdout",
     "output_type": "stream",
     "text": [
      "                          Imp\n",
      "age                  0.539852\n",
      "default              0.226608\n",
      "balance              0.092717\n",
      "housing              0.050382\n",
      "loan                 0.019512\n",
      "day                  0.019329\n",
      "duration             0.011449\n",
      "campaign             0.008465\n",
      "pdays                0.008296\n",
      "previous             0.005296\n",
      "job_blue-collar      0.003310\n",
      "job_entrepreneur     0.002906\n",
      "job_housemaid        0.002855\n",
      "job_management       0.002652\n",
      "job_retired          0.001739\n",
      "job_self-employed    0.001271\n",
      "job_services         0.001148\n",
      "job_student          0.000871\n",
      "job_technician       0.000687\n",
      "job_unemployed       0.000655\n",
      "job_unknown          0.000000\n",
      "marital_married      0.000000\n",
      "marital_single       0.000000\n",
      "education_secondary  0.000000\n",
      "education_tertiary   0.000000\n",
      "education_unknown    0.000000\n",
      "contact_telephone    0.000000\n",
      "contact_unknown      0.000000\n",
      "month_aug            0.000000\n",
      "month_dec            0.000000\n",
      "month_feb            0.000000\n",
      "month_jan            0.000000\n",
      "month_jul            0.000000\n",
      "month_jun            0.000000\n",
      "month_mar            0.000000\n",
      "month_may            0.000000\n",
      "month_nov            0.000000\n",
      "month_oct            0.000000\n",
      "month_sep            0.000000\n",
      "poutcome_other       0.000000\n",
      "poutcome_success     0.000000\n",
      "poutcome_unknown     0.000000\n"
     ]
    }
   ],
   "source": [
    "print(pd.DataFrame(sorted(dt_fin.feature_importances_, reverse=True), columns = [\"Imp\"], index = Xohe_train.columns))"
   ]
  },
  {
   "cell_type": "markdown",
   "metadata": {},
   "source": [
    "From the feature importance a couple of things are clear<br>\n",
    "1. Age is a very important factor hence the bank and its marketing department can use this to target old age clients (retired class) who are most probably looking to invest their lifelong savings and are looking for more stable investment options.<br>\n",
    "2. Duration is definately correlated to Term deposits subscription, meaning that the campaign should be structured in a way that will captivate the client with the intention of keeping them on the call longer. the longer they stay on the call, the higher the chances of convincing them to subcribe <br>\n",
    "3. Having credit that is in default is also one important factor in this campaign. Bank marketing department should minimise the risk, hence they should target those clients first with no default history"
   ]
  },
  {
   "cell_type": "markdown",
   "metadata": {},
   "source": [
    "# Random Forest"
   ]
  },
  {
   "cell_type": "code",
   "execution_count": 80,
   "metadata": {},
   "outputs": [],
   "source": [
    "from sklearn.ensemble import RandomForestClassifier"
   ]
  },
  {
   "cell_type": "code",
   "execution_count": 81,
   "metadata": {},
   "outputs": [
    {
     "name": "stdout",
     "output_type": "stream",
     "text": [
      "Accuracy: 90.19\n"
     ]
    }
   ],
   "source": [
    "# random forest model creation\n",
    "rfc = RandomForestClassifier(n_estimators=30, random_state=1)\n",
    "rfc.fit(Xohe_train,y_train)\n",
    "# predictions\n",
    "rfc_pred = rfc.predict(Xohe_test)\n",
    "\n",
    "accuracy = accuracy_score(y_test, rfc_pred)\n",
    "print('Accuracy: %.2f' % (accuracy*100))"
   ]
  },
  {
   "cell_type": "code",
   "execution_count": 82,
   "metadata": {},
   "outputs": [
    {
     "data": {
      "text/plain": [
       "0.6537435562366002"
      ]
     },
     "execution_count": 82,
     "metadata": {},
     "output_type": "execute_result"
    }
   ],
   "source": [
    "fpr, tpr, thresholds = roc_curve(y_test, rfc_pred)\n",
    "roc_auc = auc(fpr, tpr)\n",
    "roc_auc"
   ]
  },
  {
   "cell_type": "code",
   "execution_count": 83,
   "metadata": {},
   "outputs": [
    {
     "name": "stdout",
     "output_type": "stream",
     "text": [
      "              precision    recall  f1-score   support\n",
      "\n",
      "           0       0.92      0.98      0.95     12013\n",
      "           1       0.64      0.33      0.44      1551\n",
      "\n",
      "    accuracy                           0.90     13564\n",
      "   macro avg       0.78      0.65      0.69     13564\n",
      "weighted avg       0.89      0.90      0.89     13564\n",
      "\n"
     ]
    }
   ],
   "source": [
    "print(classification_report(y_test, rfc_pred))"
   ]
  },
  {
   "cell_type": "code",
   "execution_count": 84,
   "metadata": {},
   "outputs": [
    {
     "data": {
      "image/png": "[encoded data removed]",
      "text/plain": [
       "<Figure size 360x360 with 1 Axes>"
      ]
     },
     "metadata": {
      "needs_background": "light"
     },
     "output_type": "display_data"
    }
   ],
   "source": [
    "conf_mat= confusion_matrix(y_test, rfc_pred)\n",
    "\n",
    "fig, ax = plt.subplots(figsize=(5, 5))\n",
    "ax.imshow(conf_mat, cmap='Accent')\n",
    "ax.grid(False)\n",
    "ax.xaxis.set(ticks=(0, 1), ticklabels=('Predicted 0s', 'Predicted 1s'))\n",
    "ax.yaxis.set(ticks=(0, 1), ticklabels=('Actual 0s', 'Actual 1s'))\n",
    "ax.set_ylim(1.5, -0.5)\n",
    "for i in range(2):\n",
    "    for j in range(2):\n",
    "        ax.text(j, i, conf_mat[i, j], ha='center', va='center', color='blue')"
   ]
  },
  {
   "cell_type": "markdown",
   "metadata": {},
   "source": [
    "#### Hyper parameter tuning: Random Classifier"
   ]
  },
  {
   "cell_type": "code",
   "execution_count": 85,
   "metadata": {},
   "outputs": [
    {
     "name": "stdout",
     "output_type": "stream",
     "text": [
      "{'bootstrap': True, 'ccp_alpha': 0.0, 'class_weight': None, 'criterion': 'gini', 'max_depth': None, 'max_features': 'auto', 'max_leaf_nodes': None, 'max_samples': None, 'min_impurity_decrease': 0.0, 'min_impurity_split': None, 'min_samples_leaf': 1, 'min_samples_split': 2, 'min_weight_fraction_leaf': 0.0, 'n_estimators': 30, 'n_jobs': None, 'oob_score': False, 'random_state': 1, 'verbose': 0, 'warm_start': False}\n"
     ]
    }
   ],
   "source": [
    "print(rfc.get_params())"
   ]
  },
  {
   "cell_type": "code",
   "execution_count": 86,
   "metadata": {},
   "outputs": [
    {
     "data": {
      "text/html": [
       "<div>\n",
       "<style scoped>\n",
       "    .dataframe tbody tr th:only-of-type {\n",
       "        vertical-align: middle;\n",
       "    }\n",
       "\n",
       "    .dataframe tbody tr th {\n",
       "        vertical-align: top;\n",
       "    }\n",
       "\n",
       "    .dataframe thead th {\n",
       "        text-align: right;\n",
       "    }\n",
       "</style>\n",
       "<table border=\"1\" class=\"dataframe\">\n",
       "  <thead>\n",
       "    <tr style=\"text-align: right;\">\n",
       "      <th></th>\n",
       "      <th>30</th>\n",
       "      <th>40</th>\n",
       "      <th>50</th>\n",
       "      <th>75</th>\n",
       "      <th>100</th>\n",
       "      <th>150</th>\n",
       "      <th>200</th>\n",
       "    </tr>\n",
       "  </thead>\n",
       "  <tbody>\n",
       "    <tr>\n",
       "      <th>recall_score</th>\n",
       "      <td>0.332044</td>\n",
       "      <td>0.349452</td>\n",
       "      <td>0.341070</td>\n",
       "      <td>0.360413</td>\n",
       "      <td>0.357834</td>\n",
       "      <td>0.348162</td>\n",
       "      <td>0.352031</td>\n",
       "    </tr>\n",
       "    <tr>\n",
       "      <th>precision_score</th>\n",
       "      <td>0.635802</td>\n",
       "      <td>0.645238</td>\n",
       "      <td>0.641990</td>\n",
       "      <td>0.650757</td>\n",
       "      <td>0.647608</td>\n",
       "      <td>0.641330</td>\n",
       "      <td>0.650775</td>\n",
       "    </tr>\n",
       "    <tr>\n",
       "      <th>roc_auc_score</th>\n",
       "      <td>0.777287</td>\n",
       "      <td>0.782970</td>\n",
       "      <td>0.780885</td>\n",
       "      <td>0.786339</td>\n",
       "      <td>0.784613</td>\n",
       "      <td>0.780931</td>\n",
       "      <td>0.785898</td>\n",
       "    </tr>\n",
       "  </tbody>\n",
       "</table>\n",
       "</div>"
      ],
      "text/plain": [
       "                      30        40        50        75        100       150  \\\n",
       "recall_score     0.332044  0.349452  0.341070  0.360413  0.357834  0.348162   \n",
       "precision_score  0.635802  0.645238  0.641990  0.650757  0.647608  0.641330   \n",
       "roc_auc_score    0.777287  0.782970  0.780885  0.786339  0.784613  0.780931   \n",
       "\n",
       "                      200  \n",
       "recall_score     0.352031  \n",
       "precision_score  0.650775  \n",
       "roc_auc_score    0.785898  "
      ]
     },
     "execution_count": 86,
     "metadata": {},
     "output_type": "execute_result"
    }
   ],
   "source": [
    "param_list = [30, 40, 50, 75, 100, 150, 200]\n",
    "\n",
    "a, b, c , d= [], [], [], []\n",
    "for i in param_list:\n",
    "    model = RandomForestClassifier(n_estimators=i, random_state=1)\n",
    "    model.fit(Xohe_train, y_train)\n",
    "    y_pred = model.predict(Xohe_test)\n",
    "    a.append(i)\n",
    "    b.append(recall_score(y_test,y_pred))\n",
    "    c.append(precision_score(y_test,y_pred))\n",
    "    d.append(roc_auc_score(y_pred, y_test))\n",
    "        \n",
    "pd.DataFrame([b, c, d], index = ['recall_score', 'precision_score', 'roc_auc_score'], columns=param_list)"
   ]
  },
  {
   "cell_type": "markdown",
   "metadata": {},
   "source": [
    "I find that the model performs best when teh number of estimators is 75. I go on to check *criterion* and *max_depth*\n",
    "Below is the code investigating criterion and 'gini' sems to perform better than entropy. Gini is also the default hence we will leave it as is"
   ]
  },
  {
   "cell_type": "code",
   "execution_count": 87,
   "metadata": {},
   "outputs": [
    {
     "data": {
      "text/html": [
       "<div>\n",
       "<style scoped>\n",
       "    .dataframe tbody tr th:only-of-type {\n",
       "        vertical-align: middle;\n",
       "    }\n",
       "\n",
       "    .dataframe tbody tr th {\n",
       "        vertical-align: top;\n",
       "    }\n",
       "\n",
       "    .dataframe thead th {\n",
       "        text-align: right;\n",
       "    }\n",
       "</style>\n",
       "<table border=\"1\" class=\"dataframe\">\n",
       "  <thead>\n",
       "    <tr style=\"text-align: right;\">\n",
       "      <th></th>\n",
       "      <th>gini</th>\n",
       "      <th>entropy</th>\n",
       "    </tr>\n",
       "  </thead>\n",
       "  <tbody>\n",
       "    <tr>\n",
       "      <th>recall_score</th>\n",
       "      <td>0.360413</td>\n",
       "      <td>0.346873</td>\n",
       "    </tr>\n",
       "    <tr>\n",
       "      <th>precision_score</th>\n",
       "      <td>0.650757</td>\n",
       "      <td>0.642005</td>\n",
       "    </tr>\n",
       "    <tr>\n",
       "      <th>roc_auc_score</th>\n",
       "      <td>0.786339</td>\n",
       "      <td>0.781202</td>\n",
       "    </tr>\n",
       "  </tbody>\n",
       "</table>\n",
       "</div>"
      ],
      "text/plain": [
       "                     gini   entropy\n",
       "recall_score     0.360413  0.346873\n",
       "precision_score  0.650757  0.642005\n",
       "roc_auc_score    0.786339  0.781202"
      ]
     },
     "execution_count": 87,
     "metadata": {},
     "output_type": "execute_result"
    }
   ],
   "source": [
    "param_list = ['gini', 'entropy']\n",
    "\n",
    "a, b, c , d= [], [], [], []\n",
    "for i in param_list:\n",
    "    model = RandomForestClassifier(n_estimators=75, criterion=i, random_state=1)\n",
    "    model.fit(Xohe_train, y_train)\n",
    "    y_pred = model.predict(Xohe_test)\n",
    "    a.append(i)\n",
    "    b.append(recall_score(y_test,y_pred))\n",
    "    c.append(precision_score(y_test,y_pred))\n",
    "    d.append(roc_auc_score(y_pred, y_test))\n",
    "        \n",
    "pd.DataFrame([b, c, d], index = ['recall_score', 'precision_score', 'roc_auc_score'], columns=param_list)"
   ]
  },
  {
   "cell_type": "code",
   "execution_count": 88,
   "metadata": {},
   "outputs": [
    {
     "data": {
      "text/html": [
       "<div>\n",
       "<style scoped>\n",
       "    .dataframe tbody tr th:only-of-type {\n",
       "        vertical-align: middle;\n",
       "    }\n",
       "\n",
       "    .dataframe tbody tr th {\n",
       "        vertical-align: top;\n",
       "    }\n",
       "\n",
       "    .dataframe thead th {\n",
       "        text-align: right;\n",
       "    }\n",
       "</style>\n",
       "<table border=\"1\" class=\"dataframe\">\n",
       "  <thead>\n",
       "    <tr style=\"text-align: right;\">\n",
       "      <th></th>\n",
       "      <th>3</th>\n",
       "      <th>4</th>\n",
       "      <th>5</th>\n",
       "      <th>6</th>\n",
       "      <th>7</th>\n",
       "      <th>8</th>\n",
       "      <th>10</th>\n",
       "    </tr>\n",
       "  </thead>\n",
       "  <tbody>\n",
       "    <tr>\n",
       "      <th>recall_score</th>\n",
       "      <td>0.005803</td>\n",
       "      <td>0.053514</td>\n",
       "      <td>0.105093</td>\n",
       "      <td>0.128949</td>\n",
       "      <td>0.149581</td>\n",
       "      <td>0.160542</td>\n",
       "      <td>0.190845</td>\n",
       "    </tr>\n",
       "    <tr>\n",
       "      <th>precision_score</th>\n",
       "      <td>0.900000</td>\n",
       "      <td>0.813725</td>\n",
       "      <td>0.779904</td>\n",
       "      <td>0.766284</td>\n",
       "      <td>0.755700</td>\n",
       "      <td>0.741071</td>\n",
       "      <td>0.740000</td>\n",
       "    </tr>\n",
       "    <tr>\n",
       "      <th>roc_auc_score</th>\n",
       "      <td>0.893116</td>\n",
       "      <td>0.852339</td>\n",
       "      <td>0.837987</td>\n",
       "      <td>0.832364</td>\n",
       "      <td>0.828103</td>\n",
       "      <td>0.821322</td>\n",
       "      <td>0.822332</td>\n",
       "    </tr>\n",
       "  </tbody>\n",
       "</table>\n",
       "</div>"
      ],
      "text/plain": [
       "                       3         4         5         6         7         8   \\\n",
       "recall_score     0.005803  0.053514  0.105093  0.128949  0.149581  0.160542   \n",
       "precision_score  0.900000  0.813725  0.779904  0.766284  0.755700  0.741071   \n",
       "roc_auc_score    0.893116  0.852339  0.837987  0.832364  0.828103  0.821322   \n",
       "\n",
       "                       10  \n",
       "recall_score     0.190845  \n",
       "precision_score  0.740000  \n",
       "roc_auc_score    0.822332  "
      ]
     },
     "execution_count": 88,
     "metadata": {},
     "output_type": "execute_result"
    }
   ],
   "source": [
    "param_list = [3, 4, 5, 6, 7, 8, 10]\n",
    "\n",
    "a, b, c , d= [], [], [], []\n",
    "for i in param_list:\n",
    "    model = RandomForestClassifier(n_estimators=75, max_depth=i, random_state=1)\n",
    "    model.fit(Xohe_train, y_train)\n",
    "    y_pred = model.predict(Xohe_test)\n",
    "    a.append(i)\n",
    "    b.append(recall_score(y_test,y_pred))\n",
    "    c.append(precision_score(y_test,y_pred))\n",
    "    d.append(roc_auc_score(y_pred, y_test))\n",
    "        \n",
    "pd.DataFrame([b, c, d], index = ['recall_score', 'precision_score', 'roc_auc_score'], columns=param_list)"
   ]
  },
  {
   "cell_type": "markdown",
   "metadata": {},
   "source": [
    "max_depth of 3 optimises significantly deteriorates the recall score hence we will leave the default figures. \n",
    "\n",
    "after trying max_features, min_sample_split, and min_sample_leaf i realised there is no change in performance hence the final adopted model is as given below\n"
   ]
  },
  {
   "cell_type": "code",
   "execution_count": 89,
   "metadata": {},
   "outputs": [
    {
     "name": "stdout",
     "output_type": "stream",
     "text": [
      "Accuracy: 90.47\n"
     ]
    }
   ],
   "source": [
    "# random forest model creation\n",
    "rfcl = RandomForestClassifier(n_estimators=75, random_state=1)\n",
    "rfcl.fit(Xohe_train,y_train)\n",
    "# predictions\n",
    "rfc_pred = rfcl.predict(Xohe_test)\n",
    "\n",
    "accuracy = accuracy_score(y_test, rfc_pred)\n",
    "print('Accuracy: %.2f' % (accuracy*100))"
   ]
  },
  {
   "cell_type": "code",
   "execution_count": 90,
   "metadata": {},
   "outputs": [
    {
     "name": "stdout",
     "output_type": "stream",
     "text": [
      "0.9999052042847664\n"
     ]
    }
   ],
   "source": [
    "print(rfcl.score(Xohe_train, y_train))"
   ]
  },
  {
   "cell_type": "code",
   "execution_count": 91,
   "metadata": {},
   "outputs": [
    {
     "data": {
      "text/plain": [
       "0.6677198455165941"
      ]
     },
     "execution_count": 91,
     "metadata": {},
     "output_type": "execute_result"
    }
   ],
   "source": [
    "fpr, tpr, thresholds = roc_curve(y_test, rfc_pred)\n",
    "roc_auc = auc(fpr, tpr)\n",
    "roc_auc"
   ]
  },
  {
   "cell_type": "code",
   "execution_count": 92,
   "metadata": {},
   "outputs": [
    {
     "data": {
      "image/png": "[encoded data removed]",
      "text/plain": [
       "<Figure size 360x360 with 1 Axes>"
      ]
     },
     "metadata": {
      "needs_background": "light"
     },
     "output_type": "display_data"
    }
   ],
   "source": [
    "cm=confusion_matrix(y_test, rfc_pred,labels=[0, 1])\n",
    "\n",
    "fig, ax = plt.subplots(figsize=(5, 5))\n",
    "ax.imshow(cm, cmap='Accent')\n",
    "ax.grid(False)\n",
    "ax.xaxis.set(ticks=(0, 1), ticklabels=('Predicted 0s', 'Predicted 1s'))\n",
    "ax.yaxis.set(ticks=(0, 1), ticklabels=('Actual 0s', 'Actual 1s'))\n",
    "ax.set_ylim(1.5, -0.5)\n",
    "for i in range(2):\n",
    "    for j in range(2):\n",
    "        ax.text(j, i, cm[i, j], ha='center', va='center', color='blue');"
   ]
  },
  {
   "cell_type": "code",
   "execution_count": 106,
   "metadata": {},
   "outputs": [
    {
     "name": "stdout",
     "output_type": "stream",
     "text": [
      "              precision    recall  f1-score   support\n",
      "\n",
      "           0       0.92      0.98      0.95     12013\n",
      "           1       0.65      0.36      0.46      1551\n",
      "\n",
      "    accuracy                           0.90     13564\n",
      "   macro avg       0.79      0.67      0.71     13564\n",
      "weighted avg       0.89      0.90      0.89     13564\n",
      "\n"
     ]
    }
   ],
   "source": [
    "print(classification_report(y_test, rfc_pred))"
   ]
  },
  {
   "cell_type": "markdown",
   "metadata": {},
   "source": [
    "# Bagging"
   ]
  },
  {
   "cell_type": "code",
   "execution_count": 93,
   "metadata": {},
   "outputs": [
    {
     "data": {
      "image/png": "[encoded data removed]",
      "text/plain": [
       "<Figure size 360x360 with 1 Axes>"
      ]
     },
     "metadata": {
      "needs_background": "light"
     },
     "output_type": "display_data"
    }
   ],
   "source": [
    "from sklearn.ensemble import BaggingClassifier\n",
    "\n",
    "bgcl = BaggingClassifier(base_estimator=dt_fin, n_estimators=50, random_state=1)\n",
    "\n",
    "bgcl = bgcl.fit(Xohe_train, y_train)\n",
    "bgcl_pred = bgcl.predict(Xohe_test)\n",
    "\n",
    "cm=confusion_matrix(y_test, bgcl_pred,labels=[0, 1])\n",
    "\n",
    "fig, ax = plt.subplots(figsize=(5, 5))\n",
    "ax.imshow(cm, cmap='Accent')\n",
    "ax.grid(False)\n",
    "ax.xaxis.set(ticks=(0, 1), ticklabels=('Predicted 0s', 'Predicted 1s'))\n",
    "ax.yaxis.set(ticks=(0, 1), ticklabels=('Actual 0s', 'Actual 1s'))\n",
    "ax.set_ylim(1.5, -0.5)\n",
    "for i in range(2):\n",
    "    for j in range(2):\n",
    "        ax.text(j, i, cm[i, j], ha='center', va='center', color='blue');"
   ]
  },
  {
   "cell_type": "code",
   "execution_count": 94,
   "metadata": {},
   "outputs": [
    {
     "name": "stdout",
     "output_type": "stream",
     "text": [
      "training score:  90.31 %\n",
      "testing score:  90.1 %\n"
     ]
    }
   ],
   "source": [
    "print('training score: ', (bgcl.score(Xohe_train , y_train)*100).round(2),'%')\n",
    "print('testing score: ', (bgcl.score(Xohe_test , y_test)*100).round(2), '%')"
   ]
  },
  {
   "cell_type": "code",
   "execution_count": 95,
   "metadata": {},
   "outputs": [
    {
     "data": {
      "text/plain": [
       "0.6723351711768515"
      ]
     },
     "execution_count": 95,
     "metadata": {},
     "output_type": "execute_result"
    }
   ],
   "source": [
    "fpr, tpr, thresholds = roc_curve(y_test, bgcl_pred)\n",
    "roc_auc = auc(fpr, tpr)\n",
    "roc_auc"
   ]
  },
  {
   "cell_type": "code",
   "execution_count": 96,
   "metadata": {},
   "outputs": [
    {
     "name": "stdout",
     "output_type": "stream",
     "text": [
      "              precision    recall  f1-score   support\n",
      "\n",
      "           0       0.92      0.97      0.95     12013\n",
      "           1       0.61      0.38      0.46      1551\n",
      "\n",
      "    accuracy                           0.90     13564\n",
      "   macro avg       0.77      0.67      0.71     13564\n",
      "weighted avg       0.89      0.90      0.89     13564\n",
      "\n"
     ]
    }
   ],
   "source": [
    "print(classification_report(y_test, bgcl_pred))"
   ]
  },
  {
   "cell_type": "markdown",
   "metadata": {},
   "source": [
    "# AdaBoosting"
   ]
  },
  {
   "cell_type": "markdown",
   "metadata": {},
   "source": [
    "the higher the number of estimators the higher the chances of overfitting\n",
    "\n",
    "With parameter tuning, the most optimal number of estimators that minimises the variance is <br>\n",
    "I started with *n_estimators =* 50 and increased up to 200 and noted that the best out-of-smaple performance is obtained when we set *n_estimators* to 50"
   ]
  },
  {
   "cell_type": "code",
   "execution_count": 97,
   "metadata": {},
   "outputs": [
    {
     "data": {
      "image/png": "[encoded data removed]",
      "text/plain": [
       "<Figure size 360x360 with 1 Axes>"
      ]
     },
     "metadata": {
      "needs_background": "light"
     },
     "output_type": "display_data"
    }
   ],
   "source": [
    "from sklearn.ensemble import AdaBoostClassifier\n",
    "abcl = AdaBoostClassifier(n_estimators=50, random_state=1) \n",
    "\n",
    "abcl = abcl.fit(Xohe_train, y_train)\n",
    "\n",
    "ab_pred = abcl.predict(Xohe_test)\n",
    "\n",
    "cm = confusion_matrix(y_test, ab_pred,labels=[0, 1])\n",
    "\n",
    "fig, ax = plt.subplots(figsize=(5, 5))\n",
    "ax.imshow(cm, cmap='Accent')\n",
    "ax.grid(False)\n",
    "ax.xaxis.set(ticks=(0, 1), ticklabels=('Predicted 0s', 'Predicted 1s'))\n",
    "ax.yaxis.set(ticks=(0, 1), ticklabels=('Actual 0s', 'Actual 1s'))\n",
    "ax.set_ylim(1.5, -0.5)\n",
    "for i in range(2):\n",
    "    for j in range(2):\n",
    "        ax.text(j, i, cm[i, j], ha='center', va='center', color='blue');"
   ]
  },
  {
   "cell_type": "code",
   "execution_count": 98,
   "metadata": {},
   "outputs": [
    {
     "name": "stdout",
     "output_type": "stream",
     "text": [
      "training score:  90.06 %\n",
      "testing score:  89.9 %\n"
     ]
    }
   ],
   "source": [
    "print('training score: ', (abcl.score(Xohe_train , y_train)*100).round(2),'%')\n",
    "print('testing score: ', (abcl.score(Xohe_test , y_test)*100).round(2), '%')"
   ]
  },
  {
   "cell_type": "code",
   "execution_count": 99,
   "metadata": {},
   "outputs": [
    {
     "data": {
      "text/plain": [
       "0.653524070179077"
      ]
     },
     "execution_count": 99,
     "metadata": {},
     "output_type": "execute_result"
    }
   ],
   "source": [
    "fpr, tpr, thresholds = roc_curve(y_test, ab_pred)\n",
    "roc_auc = auc(fpr, tpr)\n",
    "roc_auc"
   ]
  },
  {
   "cell_type": "code",
   "execution_count": 107,
   "metadata": {},
   "outputs": [
    {
     "name": "stdout",
     "output_type": "stream",
     "text": [
      "              precision    recall  f1-score   support\n",
      "\n",
      "           0       0.92      0.97      0.94     12013\n",
      "           1       0.61      0.34      0.43      1551\n",
      "\n",
      "    accuracy                           0.90     13564\n",
      "   macro avg       0.76      0.65      0.69     13564\n",
      "weighted avg       0.88      0.90      0.89     13564\n",
      "\n"
     ]
    }
   ],
   "source": [
    "print(classification_report(y_test, ab_pred))"
   ]
  },
  {
   "cell_type": "markdown",
   "metadata": {},
   "source": [
    "# Gradient Boosting"
   ]
  },
  {
   "cell_type": "code",
   "execution_count": 100,
   "metadata": {},
   "outputs": [
    {
     "data": {
      "image/png": "[encoded data removed]",
      "text/plain": [
       "<Figure size 360x360 with 1 Axes>"
      ]
     },
     "metadata": {
      "needs_background": "light"
     },
     "output_type": "display_data"
    }
   ],
   "source": [
    "from sklearn.ensemble import GradientBoostingClassifier\n",
    "gbcl = GradientBoostingClassifier(n_estimators = 50, random_state=1)\n",
    "gbcl = gbcl.fit(Xohe_train, y_train)\n",
    "\n",
    "gb_pred = gbcl.predict(Xohe_test)\n",
    "cm = confusion_matrix(y_test, gb_pred,labels=[0, 1])\n",
    "\n",
    "fig, ax = plt.subplots(figsize=(5, 5))\n",
    "ax.imshow(cm, cmap='Accent')\n",
    "ax.grid(False)\n",
    "ax.xaxis.set(ticks=(0, 1), ticklabels=('Predicted 0s', 'Predicted 1s'))\n",
    "ax.yaxis.set(ticks=(0, 1), ticklabels=('Actual 0s', 'Actual 1s'))\n",
    "ax.set_ylim(1.5, -0.5)\n",
    "for i in range(2):\n",
    "    for j in range(2):\n",
    "        ax.text(j, i, cm[i, j], ha='center', va='center', color='blue');"
   ]
  },
  {
   "cell_type": "code",
   "execution_count": 101,
   "metadata": {},
   "outputs": [
    {
     "name": "stdout",
     "output_type": "stream",
     "text": [
      "training score:  90.2 %\n",
      "testing score:  90.19 %\n"
     ]
    }
   ],
   "source": [
    "print('training score: ', (gbcl.score(Xohe_train , y_train)*100).round(2),'%')\n",
    "print('testing score: ', (gbcl.score(Xohe_test , y_test)*100).round(2), '%')"
   ]
  },
  {
   "cell_type": "code",
   "execution_count": 102,
   "metadata": {},
   "outputs": [
    {
     "data": {
      "text/plain": [
       "0.6293598333161856"
      ]
     },
     "execution_count": 102,
     "metadata": {},
     "output_type": "execute_result"
    }
   ],
   "source": [
    "fpr, tpr, thresholds = roc_curve(y_test, gb_pred)\n",
    "roc_auc = auc(fpr, tpr)\n",
    "roc_auc"
   ]
  },
  {
   "cell_type": "code",
   "execution_count": 108,
   "metadata": {},
   "outputs": [
    {
     "name": "stdout",
     "output_type": "stream",
     "text": [
      "              precision    recall  f1-score   support\n",
      "\n",
      "           0       0.91      0.98      0.95     12013\n",
      "           1       0.67      0.28      0.39      1551\n",
      "\n",
      "    accuracy                           0.90     13564\n",
      "   macro avg       0.79      0.63      0.67     13564\n",
      "weighted avg       0.89      0.90      0.88     13564\n",
      "\n"
     ]
    }
   ],
   "source": [
    "print(classification_report(y_test, gb_pred))"
   ]
  },
  {
   "cell_type": "markdown",
   "metadata": {},
   "source": [
    "# Voting Classifier"
   ]
  },
  {
   "cell_type": "code",
   "execution_count": 114,
   "metadata": {},
   "outputs": [],
   "source": [
    "from sklearn.ensemble import VotingClassifier\n",
    "model = VotingClassifier(estimators=[('log_reg', lr_fin), ('rf', rfcl), ('bagging', bgcl), ('gb', gbcl), ('ada', abcl)], voting='soft')\n",
    "model.fit(Xohe_train, y_train)\n",
    "\n",
    "ytrain_pred = model.predict(Xohe_train)\n",
    "ytest_pred = model.predict(Xohe_test)"
   ]
  },
  {
   "cell_type": "code",
   "execution_count": 115,
   "metadata": {},
   "outputs": [
    {
     "data": {
      "text/plain": [
       "0.608490409835938"
      ]
     },
     "execution_count": 115,
     "metadata": {},
     "output_type": "execute_result"
    }
   ],
   "source": [
    "fpr, tpr, thresholds = roc_curve(y_test, ytest_pred)\n",
    "roc_auc = auc(fpr, tpr)\n",
    "roc_auc"
   ]
  },
  {
   "cell_type": "code",
   "execution_count": 116,
   "metadata": {},
   "outputs": [
    {
     "name": "stdout",
     "output_type": "stream",
     "text": [
      "              precision    recall  f1-score   support\n",
      "\n",
      "           0       0.91      0.99      0.95     12013\n",
      "           1       0.71      0.23      0.35      1551\n",
      "\n",
      "    accuracy                           0.90     13564\n",
      "   macro avg       0.81      0.61      0.65     13564\n",
      "weighted avg       0.89      0.90      0.88     13564\n",
      "\n"
     ]
    }
   ],
   "source": [
    "print(classification_report(y_test, ytest_pred))"
   ]
  },
  {
   "cell_type": "code",
   "execution_count": 117,
   "metadata": {},
   "outputs": [
    {
     "data": {
      "image/png": "[encoded data removed]",
      "text/plain": [
       "<Figure size 360x360 with 1 Axes>"
      ]
     },
     "metadata": {
      "needs_background": "light"
     },
     "output_type": "display_data"
    }
   ],
   "source": [
    "cm = confusion_matrix(y_test, ytest_pred, labels=[0, 1])\n",
    "\n",
    "fig, ax = plt.subplots(figsize=(5, 5))\n",
    "ax.imshow(cm, cmap='Accent')\n",
    "ax.grid(False)\n",
    "ax.xaxis.set(ticks=(0, 1), ticklabels=('Predicted 0s', 'Predicted 1s'))\n",
    "ax.yaxis.set(ticks=(0, 1), ticklabels=('Actual 0s', 'Actual 1s'))\n",
    "ax.set_ylim(1.5, -0.5)\n",
    "for i in range(2):\n",
    "    for j in range(2):\n",
    "        ax.text(j, i, cm[i, j], ha='center', va='center', color='blue');"
   ]
  },
  {
   "cell_type": "markdown",
   "metadata": {},
   "source": [
    "## Model Comparison"
   ]
  },
  {
   "cell_type": "code",
   "execution_count": 118,
   "metadata": {},
   "outputs": [],
   "source": [
    "models = [\"Logistics Regression\", 'Decision Trees', 'Random Forest', 'Bagging', 'AdaBoosting', 'Gradient Boosting', 'Voting']\n",
    "cl = [lr_fin, dt_fin, rfcl, bgcl, abcl, gbcl, model]\n",
    "train_score = [(x.score(Xohe_train , y_train)*100).round(2) for x in cl]\n",
    "test_score = [(x.score(Xohe_test , y_test)*100).round(2) for x in cl]\n",
    "_roc_auc, _precision, _recall, _f1Score = [], [], [], []\n",
    "for x in cl:\n",
    "    y_pred = x.predict(Xohe_test)\n",
    "    fpr, tpr, thresholds = roc_curve(y_test, y_pred)\n",
    "    _roc_auc.append((auc(fpr, tpr)*100).round(2))\n",
    "    _precision.append((precision_score(y_test, y_pred)*100).round(2))\n",
    "    _recall.append((recall_score(y_test, y_pred)*100).round(2))\n",
    "    _f1Score.append((f1_score(y_test, y_pred)*100).round(2))\n",
    "    \n",
    "# dictionary to store performance scores for each model\n",
    "score = {'Models': models,\n",
    "         'Train Score': train_score,\n",
    "         'Test Score': test_score,\n",
    "         'Precision': _precision,\n",
    "         'Recall': _recall,\n",
    "         'f1 Score': _f1Score,\n",
    "         'ROC AUC': _roc_auc\n",
    "        }"
   ]
  },
  {
   "cell_type": "code",
   "execution_count": 119,
   "metadata": {},
   "outputs": [
    {
     "data": {
      "text/html": [
       "<div>\n",
       "<style scoped>\n",
       "    .dataframe tbody tr th:only-of-type {\n",
       "        vertical-align: middle;\n",
       "    }\n",
       "\n",
       "    .dataframe tbody tr th {\n",
       "        vertical-align: top;\n",
       "    }\n",
       "\n",
       "    .dataframe thead th {\n",
       "        text-align: right;\n",
       "    }\n",
       "</style>\n",
       "<table border=\"1\" class=\"dataframe\">\n",
       "  <thead>\n",
       "    <tr style=\"text-align: right;\">\n",
       "      <th></th>\n",
       "      <th>Models</th>\n",
       "      <th>Train Score</th>\n",
       "      <th>Test Score</th>\n",
       "      <th>Precision</th>\n",
       "      <th>Recall</th>\n",
       "      <th>f1 Score</th>\n",
       "      <th>ROC AUC</th>\n",
       "    </tr>\n",
       "  </thead>\n",
       "  <tbody>\n",
       "    <tr>\n",
       "      <th>0</th>\n",
       "      <td>Logistics Regression</td>\n",
       "      <td>89.50</td>\n",
       "      <td>89.52</td>\n",
       "      <td>60.06</td>\n",
       "      <td>25.02</td>\n",
       "      <td>35.32</td>\n",
       "      <td>61.43</td>\n",
       "    </tr>\n",
       "    <tr>\n",
       "      <th>1</th>\n",
       "      <td>Decision Trees</td>\n",
       "      <td>90.11</td>\n",
       "      <td>90.20</td>\n",
       "      <td>65.25</td>\n",
       "      <td>30.63</td>\n",
       "      <td>41.68</td>\n",
       "      <td>64.26</td>\n",
       "    </tr>\n",
       "    <tr>\n",
       "      <th>2</th>\n",
       "      <td>Random Forest</td>\n",
       "      <td>99.99</td>\n",
       "      <td>90.47</td>\n",
       "      <td>65.08</td>\n",
       "      <td>36.04</td>\n",
       "      <td>46.39</td>\n",
       "      <td>66.77</td>\n",
       "    </tr>\n",
       "    <tr>\n",
       "      <th>3</th>\n",
       "      <td>Bagging</td>\n",
       "      <td>90.31</td>\n",
       "      <td>90.10</td>\n",
       "      <td>60.86</td>\n",
       "      <td>37.59</td>\n",
       "      <td>46.47</td>\n",
       "      <td>67.23</td>\n",
       "    </tr>\n",
       "    <tr>\n",
       "      <th>4</th>\n",
       "      <td>AdaBoosting</td>\n",
       "      <td>90.06</td>\n",
       "      <td>89.90</td>\n",
       "      <td>60.54</td>\n",
       "      <td>33.53</td>\n",
       "      <td>43.15</td>\n",
       "      <td>65.35</td>\n",
       "    </tr>\n",
       "    <tr>\n",
       "      <th>5</th>\n",
       "      <td>Gradient Boosting</td>\n",
       "      <td>90.20</td>\n",
       "      <td>90.19</td>\n",
       "      <td>67.40</td>\n",
       "      <td>27.60</td>\n",
       "      <td>39.16</td>\n",
       "      <td>62.94</td>\n",
       "    </tr>\n",
       "    <tr>\n",
       "      <th>6</th>\n",
       "      <td>Voting</td>\n",
       "      <td>91.90</td>\n",
       "      <td>90.13</td>\n",
       "      <td>71.29</td>\n",
       "      <td>22.89</td>\n",
       "      <td>34.65</td>\n",
       "      <td>60.85</td>\n",
       "    </tr>\n",
       "  </tbody>\n",
       "</table>\n",
       "</div>"
      ],
      "text/plain": [
       "                 Models  Train Score  Test Score  Precision  Recall  f1 Score  \\\n",
       "0  Logistics Regression        89.50       89.52      60.06   25.02     35.32   \n",
       "1        Decision Trees        90.11       90.20      65.25   30.63     41.68   \n",
       "2         Random Forest        99.99       90.47      65.08   36.04     46.39   \n",
       "3               Bagging        90.31       90.10      60.86   37.59     46.47   \n",
       "4           AdaBoosting        90.06       89.90      60.54   33.53     43.15   \n",
       "5     Gradient Boosting        90.20       90.19      67.40   27.60     39.16   \n",
       "6                Voting        91.90       90.13      71.29   22.89     34.65   \n",
       "\n",
       "   ROC AUC  \n",
       "0    61.43  \n",
       "1    64.26  \n",
       "2    66.77  \n",
       "3    67.23  \n",
       "4    65.35  \n",
       "5    62.94  \n",
       "6    60.85  "
      ]
     },
     "execution_count": 119,
     "metadata": {},
     "output_type": "execute_result"
    }
   ],
   "source": [
    "score_df = pd.DataFrame(score)\n",
    "score_df"
   ]
  },
  {
   "cell_type": "code",
   "execution_count": 121,
   "metadata": {},
   "outputs": [
    {
     "data": {
      "image/png": "[encoded data removed]",
      "text/plain": [
       "<Figure size 576x432 with 1 Axes>"
      ]
     },
     "metadata": {
      "needs_background": "light"
     },
     "output_type": "display_data"
    }
   ],
   "source": [
    "from sklearn.metrics import roc_auc_score\n",
    "from sklearn.metrics import roc_curve\n",
    "from matplotlib import rcParams\n",
    "\n",
    "def roc_curve_and_score(y_test, pred_proba):\n",
    "    fpr, tpr, _ = roc_curve(y_test.ravel(), pred_proba.ravel())\n",
    "    roc_auc = roc_auc_score(y_test.ravel(), pred_proba.ravel())\n",
    "    return fpr, tpr, roc_auc\n",
    "\n",
    "\n",
    "plt.figure(figsize=(8, 6))\n",
    "rcParams.update({'font.size': 14})\n",
    "plt.grid()\n",
    "fpr, tpr, roc_auc = roc_curve_and_score(y_test, lr_fin.predict_proba(Xohe_test)[:, 1])\n",
    "plt.plot(fpr, tpr, color='green', lw=2, label='Logistic Regression (area={0:.3f})'.format(roc_auc))\n",
    "fpr, tpr, roc_auc = roc_curve_and_score(y_test, dt_fin.predict_proba(Xohe_test)[:, 1])\n",
    "plt.plot(fpr, tpr, color='darkorange', lw=2, label='Decision Tree (area={0:.3f})'.format(roc_auc))\n",
    "fpr, tpr, roc_auc = roc_curve_and_score(y_test, rfcl.predict_proba(Xohe_test)[:, 1])\n",
    "plt.plot(fpr, tpr, color='pink', lw=2, label='Random Forest (area={0:.3f})'.format(roc_auc))\n",
    "fpr, tpr, roc_auc = roc_curve_and_score(y_test, bgcl.predict_proba(Xohe_test)[:, 1])\n",
    "plt.plot(fpr, tpr, color='gray', lw=2, label='Bagging (area={0:.3f})'.format(roc_auc))\n",
    "fpr, tpr, roc_auc = roc_curve_and_score(y_test, abcl.predict_proba(Xohe_test)[:, 1])\n",
    "plt.plot(fpr, tpr, color='navy', lw=2, label='Adaboosting (area={0:.3f})'.format(roc_auc))\n",
    "fpr, tpr, roc_auc = roc_curve_and_score(y_test, gbcl.predict_proba(Xohe_test)[:, 1])\n",
    "plt.plot(fpr, tpr, color='crimson', lw=2, label='Gradient boosting (area={0:.3f})'.format(roc_auc))\n",
    "fpr, tpr, roc_auc = roc_curve_and_score(y_test, model.predict_proba(Xohe_test)[:, 1])\n",
    "plt.plot(fpr, tpr, color='blue', lw=2, label='Voting (area={0:.3f})'.format(roc_auc))\n",
    "\n",
    "plt.plot([0, 1], [0, 1], color='navy', lw=1, linestyle='--')\n",
    "plt.legend(loc=\"lower right\")\n",
    "plt.xlim([0.0, 1.0])\n",
    "plt.ylim([0.0, 1.05])\n",
    "plt.xlabel('1 - Specificity')\n",
    "plt.ylabel('Sensitivity')\n",
    "plt.show()"
   ]
  },
  {
   "cell_type": "markdown",
   "metadata": {},
   "source": [
    "From the analysis above, it is noted that the *Random forest* has the best AUC (**92.1%**). However, i would argue that *Bagging* has the smallest variance between the training score and the test score, further more, it has the best recall score and the best f1 score  amongst all the models which are robust measures of performance for a classification problem like this one. I therefore would advice the marketing departemnt of the bank to adopt the *bagging classifier model* on the basis of the performance metrics i have highlighted above\n",
    "\n",
    "Also it was noted that *age* is a feature of high importance in solving this problem. The old aged clients have should be the main target of the campaign\n",
    "\n",
    "Marketing department should strive balance the risk of defaulters and losing opportunity of business by not selling to clients who have defaulted in their loans in the past\n",
    "\n",
    "Duration turned out to be correlated to the target variable, meaning the longer the client stays on the phone the more likely they are to subscribe to the Term Deposit campaign.\n",
    "\n",
    "**Random Forest Classifier** and **Bagging Classifier** gave a better performance especially with One Hot Encoded data. Other models gave more or less similar results for both *One Hot Encoded data* and *Label Encoded data* hence i decided to leave *label encoded data* and deal only with one-hot-enocded data. **Voting Classifier** performs well with precision but falls short on the other more robust performance metrics"
   ]
  },
  {
   "cell_type": "code",
   "execution_count": null,
   "metadata": {},
   "outputs": [],
   "source": []
  }
 ],
 "metadata": {
  "kernelspec": {
   "display_name": "Python 3",
   "language": "python",
   "name": "python3"
  },
  "language_info": {
   "codemirror_mode": {
    "name": "ipython",
    "version": 3
   },
   "file_extension": ".py",
   "mimetype": "text/x-python",
   "name": "python",
   "nbconvert_exporter": "python",
   "pygments_lexer": "ipython3",
   "version": "3.7.7"
  }
 },
 "nbformat": 4,
 "nbformat_minor": 4
}
